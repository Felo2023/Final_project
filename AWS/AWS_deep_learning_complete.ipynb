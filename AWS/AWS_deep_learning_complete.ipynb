{
 "cells": [
  {
   "cell_type": "markdown",
   "metadata": {},
   "source": [
    "# Instructor Do: Create and Deploy a Machine Learning Model in Amazon SageMaker"
   ]
  },
  {
   "cell_type": "code",
   "execution_count": 1,
   "metadata": {},
   "outputs": [
    {
     "name": "stderr",
     "output_type": "stream",
     "text": [
      "/home/ec2-user/anaconda3/envs/python3/lib/python3.10/site-packages/pandas/core/computation/expressions.py:21: UserWarning: Pandas requires version '2.8.0' or newer of 'numexpr' (version '2.7.3' currently installed).\n",
      "  from pandas.core.computation.check import NUMEXPR_INSTALLED\n"
     ]
    },
    {
     "name": "stdout",
     "output_type": "stream",
     "text": [
      "sagemaker.config INFO - Not applying SDK defaults from location: /etc/xdg/sagemaker/config.yaml\n",
      "sagemaker.config INFO - Not applying SDK defaults from location: /home/ec2-user/.config/sagemaker/config.yaml\n"
     ]
    }
   ],
   "source": [
    "# Initial imports\n",
    "import os\n",
    "import io\n",
    "import json\n",
    "import numpy as np\n",
    "import pandas as pd\n",
    "from pathlib import Path\n",
    "import matplotlib.pyplot as plt\n",
    "from sklearn.model_selection import train_test_split\n",
    "from sklearn.metrics import mean_squared_error, r2_score\n",
    "\n",
    "\n",
    "# Amazon SageMaker and related imports\n",
    "import sagemaker\n",
    "import sagemaker.amazon.common as smac\n",
    "from sagemaker.serializers import CSVSerializer\n",
    "from sagemaker.deserializers import JSONDeserializer\n",
    "from sagemaker import get_execution_role\n",
    "from sagemaker.amazon.amazon_estimator import get_image_uri\n",
    "import boto3  # AWS Python sdk\n",
    "\n",
    "%matplotlib inline"
   ]
  },
  {
   "cell_type": "markdown",
   "metadata": {},
   "source": [
    "## Reading Data"
   ]
  },
  {
   "cell_type": "code",
   "execution_count": 2,
   "metadata": {},
   "outputs": [],
   "source": [
    "# Read the weather features data\n",
    "file_path = Path(\"X_data.csv\")\n",
    "X = pd.read_csv(file_path)\n",
    "\n",
    "# Transforming the \"TempAvgF\" column to a vector\n",
    "X = X.to_numpy()"
   ]
  },
  {
   "cell_type": "code",
   "execution_count": 3,
   "metadata": {},
   "outputs": [],
   "source": [
    "# Read the target data (precipitation sum inches)\n",
    "file_path = Path(\"y_data.csv\")\n",
    "y = pd.read_csv(file_path)\n",
    "\n",
    "# Transforming y into a vector\n",
    "y = y.iloc[:, 0].values"
   ]
  },
  {
   "cell_type": "code",
   "execution_count": 4,
   "metadata": {},
   "outputs": [],
   "source": [
    "# Split the data into training and testing sets\n",
    "X_train, X_test, y_train, y_test = train_test_split(X, y, test_size=0.2)"
   ]
  },
  {
   "cell_type": "markdown",
   "metadata": {},
   "source": [
    "## Creating the Linear Regression Model\n",
    "\n",
    "### Initial Configurations"
   ]
  },
  {
   "cell_type": "code",
   "execution_count": 5,
   "metadata": {},
   "outputs": [
    {
     "name": "stdout",
     "output_type": "stream",
     "text": [
      "sagemaker.config INFO - Not applying SDK defaults from location: /etc/xdg/sagemaker/config.yaml\n",
      "sagemaker.config INFO - Not applying SDK defaults from location: /home/ec2-user/.config/sagemaker/config.yaml\n"
     ]
    }
   ],
   "source": [
    "# Define Amazon S3 Bucket to store model data\n",
    "bucket = \"fel-final-project-west\"  #'<your_s3_bucket_name_here>'\n",
    "\n",
    "# Define prefix for data files\n",
    "prefix = \"covid2020-regression\"\n",
    "\n",
    "# AWS IAM role\n",
    "role = get_execution_role()"
   ]
  },
  {
   "cell_type": "markdown",
   "metadata": {},
   "source": [
    "### Uploading Training Data to Amazon S3"
   ]
  },
  {
   "cell_type": "code",
   "execution_count": 6,
   "metadata": {},
   "outputs": [
    {
     "name": "stdout",
     "output_type": "stream",
     "text": [
      "Training data uploaded to: s3://fel-final-project-west/covid2020-regression/train/linear_train.data\n"
     ]
    }
   ],
   "source": [
    "# Encode the training data as Protocol Buffer\n",
    "buf = io.BytesIO()\n",
    "vectors = np.array(X_train).astype(\"float32\")\n",
    "labels = np.array(y_train).astype(\"float32\")\n",
    "smac.write_numpy_to_dense_tensor(buf, vectors, labels)\n",
    "buf.seek(0)\n",
    "\n",
    "# Upload encoded training data to Amazon S3\n",
    "key = \"linear_train.data\"\n",
    "boto3.resource(\"s3\").Bucket(bucket).Object(\n",
    "    os.path.join(prefix, \"train\", key)\n",
    ").upload_fileobj(buf)\n",
    "s3_train_data = \"s3://{}/{}/train/{}\".format(bucket, prefix, key)\n",
    "print(\"Training data uploaded to: {}\".format(s3_train_data))"
   ]
  },
  {
   "cell_type": "markdown",
   "metadata": {},
   "source": [
    "### Upload Test Data to Amazon S3"
   ]
  },
  {
   "cell_type": "code",
   "execution_count": 7,
   "metadata": {},
   "outputs": [
    {
     "name": "stdout",
     "output_type": "stream",
     "text": [
      "Testing data uploaded to: s3://fel-final-project-west/covid2020-regression/test/linear_test.data\n"
     ]
    }
   ],
   "source": [
    "# Encode the testing data as Protocol Buffer\n",
    "buf = io.BytesIO()\n",
    "vectors = np.array(X_test).astype(\"float32\")\n",
    "labels = np.array(y_test).astype(\"float32\")\n",
    "smac.write_numpy_to_dense_tensor(buf, vectors, labels)\n",
    "buf.seek(0)\n",
    "\n",
    "# Upload encoded testing data to Amazon S3\n",
    "key = \"linear_test.data\"\n",
    "boto3.resource(\"s3\").Bucket(bucket).Object(\n",
    "    os.path.join(prefix, \"test\", key)\n",
    ").upload_fileobj(buf)\n",
    "s3_test_data = \"s3://{}/{}/test/{}\".format(bucket, prefix, key)\n",
    "print(\"Testing data uploaded to: {}\".format(s3_test_data))"
   ]
  },
  {
   "cell_type": "markdown",
   "metadata": {},
   "source": [
    "### Creating Model Instance"
   ]
  },
  {
   "cell_type": "code",
   "execution_count": 8,
   "metadata": {},
   "outputs": [
    {
     "name": "stderr",
     "output_type": "stream",
     "text": [
      "The method get_image_uri has been renamed in sagemaker>=2.\n",
      "See: https://sagemaker.readthedocs.io/en/stable/v2.html for details.\n"
     ]
    }
   ],
   "source": [
    "# Create an instance of the linear learner algorithm\n",
    "container = get_image_uri(boto3.Session().region_name, \"linear-learner\")"
   ]
  },
  {
   "cell_type": "code",
   "execution_count": 9,
   "metadata": {},
   "outputs": [
    {
     "name": "stdout",
     "output_type": "stream",
     "text": [
      "sagemaker.config INFO - Not applying SDK defaults from location: /etc/xdg/sagemaker/config.yaml\n",
      "sagemaker.config INFO - Not applying SDK defaults from location: /home/ec2-user/.config/sagemaker/config.yaml\n"
     ]
    },
    {
     "name": "stderr",
     "output_type": "stream",
     "text": [
      "train_instance_count has been renamed in sagemaker>=2.\n",
      "See: https://sagemaker.readthedocs.io/en/stable/v2.html for details.\n",
      "train_instance_type has been renamed in sagemaker>=2.\n",
      "See: https://sagemaker.readthedocs.io/en/stable/v2.html for details.\n"
     ]
    }
   ],
   "source": [
    "# Start the Amazon SageMaker session\n",
    "sess = sagemaker.Session()\n",
    "\n",
    "# Create an instance of the linear learner estimator\n",
    "linear = sagemaker.estimator.Estimator(\n",
    "    container,\n",
    "    role,\n",
    "    train_instance_count=1,\n",
    "    train_instance_type=\"ml.m4.xlarge\",\n",
    "    output_path=\"s3://{}/{}/output\".format(bucket, prefix),\n",
    "    sagemaker_session=sess,\n",
    ")\n",
    "\n",
    "# Define linear learner hyperparameters\n",
    "linear.set_hyperparameters(\n",
    "    feature_dim=28,\n",
    "    mini_batch_size=100,\n",
    "    predictor_type=\"binary_classifier\",\n",
    "    epochs=10,\n",
    "    num_models=32,\n",
    "    loss=\"logistic\",\n",
    ")"
   ]
  },
  {
   "cell_type": "markdown",
   "metadata": {},
   "source": [
    "## Training the Machine Learning Model"
   ]
  },
  {
   "cell_type": "code",
   "execution_count": 10,
   "metadata": {},
   "outputs": [
    {
     "name": "stderr",
     "output_type": "stream",
     "text": [
      "INFO:sagemaker:Creating training-job with name: linear-learner-2023-11-16-03-37-58-753\n"
     ]
    },
    {
     "name": "stdout",
     "output_type": "stream",
     "text": [
      "2023-11-16 03:37:58 Starting - Starting the training job...\n",
      "2023-11-16 03:38:23 Starting - Preparing the instances for training.........\n",
      "2023-11-16 03:39:40 Downloading - Downloading input data...\n",
      "2023-11-16 03:40:15 Training - Downloading the training image......\n",
      "2023-11-16 03:41:26 Training - Training image download completed. Training in progress....\u001b[34mDocker entrypoint called with argument(s): train\u001b[0m\n",
      "\u001b[34mRunning default environment configuration script\u001b[0m\n",
      "\u001b[34m[11/16/2023 03:41:45 INFO 140453937297216] Reading default configuration from /opt/amazon/lib/python3.8/site-packages/algorithm/resources/default-input.json: {'mini_batch_size': '1000', 'epochs': '15', 'feature_dim': 'auto', 'use_bias': 'true', 'binary_classifier_model_selection_criteria': 'accuracy', 'f_beta': '1.0', 'target_recall': '0.8', 'target_precision': '0.8', 'num_models': 'auto', 'num_calibration_samples': '10000000', 'init_method': 'uniform', 'init_scale': '0.07', 'init_sigma': '0.01', 'init_bias': '0.0', 'optimizer': 'auto', 'loss': 'auto', 'margin': '1.0', 'quantile': '0.5', 'loss_insensitivity': '0.01', 'huber_delta': '1.0', 'num_classes': '1', 'accuracy_top_k': '3', 'wd': 'auto', 'l1': 'auto', 'momentum': 'auto', 'learning_rate': 'auto', 'beta_1': 'auto', 'beta_2': 'auto', 'bias_lr_mult': 'auto', 'bias_wd_mult': 'auto', 'use_lr_scheduler': 'true', 'lr_scheduler_step': 'auto', 'lr_scheduler_factor': 'auto', 'lr_scheduler_minimum_lr': 'auto', 'positive_example_weight_mult': '1.0', 'balance_multiclass_weights': 'false', 'normalize_data': 'true', 'normalize_label': 'auto', 'unbias_data': 'auto', 'unbias_label': 'auto', 'num_point_for_scaler': '10000', '_kvstore': 'auto', '_num_gpus': 'auto', '_num_kv_servers': 'auto', '_log_level': 'info', '_tuning_objective_metric': '', 'early_stopping_patience': '3', 'early_stopping_tolerance': '0.001', '_enable_profiler': 'false'}\u001b[0m\n",
      "\u001b[34m[11/16/2023 03:41:45 INFO 140453937297216] Merging with provided configuration from /opt/ml/input/config/hyperparameters.json: {'epochs': '10', 'feature_dim': '28', 'loss': 'logistic', 'mini_batch_size': '100', 'num_models': '32', 'predictor_type': 'binary_classifier'}\u001b[0m\n",
      "\u001b[34m[11/16/2023 03:41:45 INFO 140453937297216] Final configuration: {'mini_batch_size': '100', 'epochs': '10', 'feature_dim': '28', 'use_bias': 'true', 'binary_classifier_model_selection_criteria': 'accuracy', 'f_beta': '1.0', 'target_recall': '0.8', 'target_precision': '0.8', 'num_models': '32', 'num_calibration_samples': '10000000', 'init_method': 'uniform', 'init_scale': '0.07', 'init_sigma': '0.01', 'init_bias': '0.0', 'optimizer': 'auto', 'loss': 'logistic', 'margin': '1.0', 'quantile': '0.5', 'loss_insensitivity': '0.01', 'huber_delta': '1.0', 'num_classes': '1', 'accuracy_top_k': '3', 'wd': 'auto', 'l1': 'auto', 'momentum': 'auto', 'learning_rate': 'auto', 'beta_1': 'auto', 'beta_2': 'auto', 'bias_lr_mult': 'auto', 'bias_wd_mult': 'auto', 'use_lr_scheduler': 'true', 'lr_scheduler_step': 'auto', 'lr_scheduler_factor': 'auto', 'lr_scheduler_minimum_lr': 'auto', 'positive_example_weight_mult': '1.0', 'balance_multiclass_weights': 'false', 'normalize_data': 'true', 'normalize_label': 'auto', 'unbias_data': 'auto', 'unbias_label': 'auto', 'num_point_for_scaler': '10000', '_kvstore': 'auto', '_num_gpus': 'auto', '_num_kv_servers': 'auto', '_log_level': 'info', '_tuning_objective_metric': '', 'early_stopping_patience': '3', 'early_stopping_tolerance': '0.001', '_enable_profiler': 'false', 'predictor_type': 'binary_classifier'}\u001b[0m\n",
      "\u001b[34m/opt/amazon/lib/python3.8/site-packages/mxnet/model.py:97: SyntaxWarning: \"is\" with a literal. Did you mean \"==\"?\n",
      "  if num_device is 1 and 'dist' not in kvstore:\u001b[0m\n",
      "\u001b[34m/opt/amazon/lib/python3.8/site-packages/scipy/optimize/_shgo.py:495: SyntaxWarning: \"is\" with a literal. Did you mean \"==\"?\n",
      "  if cons['type'] is 'ineq':\u001b[0m\n",
      "\u001b[34m/opt/amazon/lib/python3.8/site-packages/scipy/optimize/_shgo.py:743: SyntaxWarning: \"is not\" with a literal. Did you mean \"!=\"?\n",
      "  if len(self.X_min) is not 0:\u001b[0m\n",
      "\u001b[34m[11/16/2023 03:41:48 WARNING 140453937297216] Loggers have already been setup.\u001b[0m\n",
      "\u001b[34m[11/16/2023 03:41:48 INFO 140453937297216] Final configuration: {'mini_batch_size': '100', 'epochs': '10', 'feature_dim': '28', 'use_bias': 'true', 'binary_classifier_model_selection_criteria': 'accuracy', 'f_beta': '1.0', 'target_recall': '0.8', 'target_precision': '0.8', 'num_models': '32', 'num_calibration_samples': '10000000', 'init_method': 'uniform', 'init_scale': '0.07', 'init_sigma': '0.01', 'init_bias': '0.0', 'optimizer': 'auto', 'loss': 'logistic', 'margin': '1.0', 'quantile': '0.5', 'loss_insensitivity': '0.01', 'huber_delta': '1.0', 'num_classes': '1', 'accuracy_top_k': '3', 'wd': 'auto', 'l1': 'auto', 'momentum': 'auto', 'learning_rate': 'auto', 'beta_1': 'auto', 'beta_2': 'auto', 'bias_lr_mult': 'auto', 'bias_wd_mult': 'auto', 'use_lr_scheduler': 'true', 'lr_scheduler_step': 'auto', 'lr_scheduler_factor': 'auto', 'lr_scheduler_minimum_lr': 'auto', 'positive_example_weight_mult': '1.0', 'balance_multiclass_weights': 'false', 'normalize_data': 'true', 'normalize_label': 'auto', 'unbias_data': 'auto', 'unbias_label': 'auto', 'num_point_for_scaler': '10000', '_kvstore': 'auto', '_num_gpus': 'auto', '_num_kv_servers': 'auto', '_log_level': 'info', '_tuning_objective_metric': '', 'early_stopping_patience': '3', 'early_stopping_tolerance': '0.001', '_enable_profiler': 'false', 'predictor_type': 'binary_classifier'}\u001b[0m\n",
      "\u001b[34m[11/16/2023 03:41:48 WARNING 140453937297216] Loggers have already been setup.\u001b[0m\n",
      "\u001b[34mProcess 7 is a worker.\u001b[0m\n",
      "\u001b[34m[11/16/2023 03:41:48 INFO 140453937297216] Using default worker.\u001b[0m\n",
      "\u001b[34m[11/16/2023 03:41:48 INFO 140453937297216] Checkpoint loading and saving are disabled.\u001b[0m\n",
      "\u001b[34m[2023-11-16 03:41:48.848] [tensorio] [warning] TensorIO is already initialized; ignoring the initialization routine.\u001b[0m\n",
      "\u001b[34m[2023-11-16 03:41:48.868] [tensorio] [info] epoch_stats={\"data_pipeline\": \"/opt/ml/input/data/train\", \"epoch\": 0, \"duration\": 22, \"num_examples\": 1, \"num_bytes\": 15600}\u001b[0m\n",
      "\u001b[34m[11/16/2023 03:41:48 INFO 140453937297216] Create Store: local\u001b[0m\n",
      "\u001b[34m[2023-11-16 03:41:49.282] [tensorio] [info] epoch_stats={\"data_pipeline\": \"/opt/ml/input/data/train\", \"epoch\": 1, \"duration\": 413, \"num_examples\": 101, \"num_bytes\": 1575600}\u001b[0m\n",
      "\u001b[34m[11/16/2023 03:41:49 INFO 140453937297216] Scaler algorithm parameters\n",
      " <algorithm.scaler.ScalerAlgorithmStable object at 0x7fbd6a955730>\u001b[0m\n",
      "\u001b[34m[11/16/2023 03:41:49 INFO 140453937297216] Scaling model computed with parameters:\n",
      " {'stdev_label': None, 'stdev_weight': \u001b[0m\n",
      "\u001b[34m[ 0.49961555  3.777613    0.4967027   8.127555    0.49777392 47.58115\n",
      " 17.578667   47.175026   14.192898   13.680944    6.6319532   6.1825852\n",
      "  6.2549644   6.4671025   6.2132664   8.673901    6.469365    6.7617292\n",
      "  6.184207    6.3345404  41.728577   37.001747   10.454896    1.9407369\n",
      "  5.6355715  47.511505   20.04804     2.9946525 ]\u001b[0m\n",
      "\u001b[34m<NDArray 28 @cpu(0)>, 'mean_label': None, 'mean_weight': \u001b[0m\n",
      "\u001b[34m[ 1.519604   7.5719805  1.5573273 15.2663355  1.5471286 46.672863\n",
      "  4.853268  55.111385   4.1103973  3.9546528  2.2226727  2.365347\n",
      "  2.3778224  2.4152465  2.1070297  2.7400987  2.3991096  2.2924745\n",
      "  2.353663   2.3310895 25.247517  19.131985  95.84396    4.7497025\n",
      " 98.6725    46.76693   50.3812     6.021685 ]\u001b[0m\n",
      "\u001b[34m<NDArray 28 @cpu(0)>}\u001b[0m\n",
      "\u001b[34m/opt/amazon/python3.8/lib/python3.8/subprocess.py:848: RuntimeWarning: line buffering (buffering=1) isn't supported in binary mode, the default buffer size will be used\n",
      "  self.stdout = io.open(c2pread, 'rb', bufsize)\u001b[0m\n",
      "\u001b[34m[11/16/2023 03:41:49 INFO 140453937297216] nvidia-smi: took 0.034 seconds to run.\u001b[0m\n",
      "\u001b[34m[11/16/2023 03:41:49 INFO 140453937297216] nvidia-smi identified 0 GPUs.\u001b[0m\n",
      "\u001b[34m[11/16/2023 03:41:49 INFO 140453937297216] Number of GPUs being used: 0\u001b[0m\n",
      "\u001b[34m#metrics {\"StartTime\": 1700106109.3974667, \"EndTime\": 1700106109.397509, \"Dimensions\": {\"Algorithm\": \"Linear Learner\", \"Host\": \"algo-1\", \"Operation\": \"training\", \"Meta\": \"init_train_data_iter\"}, \"Metrics\": {\"Total Records Seen\": {\"sum\": 10200.0, \"count\": 1, \"min\": 10200, \"max\": 10200}, \"Total Batches Seen\": {\"sum\": 102.0, \"count\": 1, \"min\": 102, \"max\": 102}, \"Max Records Seen Between Resets\": {\"sum\": 10100.0, \"count\": 1, \"min\": 10100, \"max\": 10100}, \"Max Batches Seen Between Resets\": {\"sum\": 101.0, \"count\": 1, \"min\": 101, \"max\": 101}, \"Reset Count\": {\"sum\": 2.0, \"count\": 1, \"min\": 2, \"max\": 2}, \"Number of Records Since Last Reset\": {\"sum\": 0.0, \"count\": 1, \"min\": 0, \"max\": 0}, \"Number of Batches Since Last Reset\": {\"sum\": 0.0, \"count\": 1, \"min\": 0, \"max\": 0}}}\u001b[0m\n",
      "\u001b[34m[2023-11-16 03:43:44.018] [tensorio] [info] epoch_stats={\"data_pipeline\": \"/opt/ml/input/data/train\", \"epoch\": 3, \"duration\": 114620, \"num_examples\": 3381, \"num_bytes\": 52732992}\u001b[0m\n",
      "\u001b[34m#metrics {\"StartTime\": 1700106224.0187283, \"EndTime\": 1700106224.0188236, \"Dimensions\": {\"Algorithm\": \"Linear Learner\", \"Host\": \"algo-1\", \"Operation\": \"training\", \"epoch\": 0, \"model\": 0}, \"Metrics\": {\"train_binary_classification_cross_entropy_objective\": {\"sum\": 0.1700193332426647, \"count\": 1, \"min\": 0.1700193332426647, \"max\": 0.1700193332426647}}}\u001b[0m\n",
      "\u001b[34m#metrics {\"StartTime\": 1700106224.0189452, \"EndTime\": 1700106224.018972, \"Dimensions\": {\"Algorithm\": \"Linear Learner\", \"Host\": \"algo-1\", \"Operation\": \"training\", \"epoch\": 0, \"model\": 1}, \"Metrics\": {\"train_binary_classification_cross_entropy_objective\": {\"sum\": 0.15680967719667763, \"count\": 1, \"min\": 0.15680967719667763, \"max\": 0.15680967719667763}}}\u001b[0m\n",
      "\u001b[34m#metrics {\"StartTime\": 1700106224.019044, \"EndTime\": 1700106224.019063, \"Dimensions\": {\"Algorithm\": \"Linear Learner\", \"Host\": \"algo-1\", \"Operation\": \"training\", \"epoch\": 0, \"model\": 2}, \"Metrics\": {\"train_binary_classification_cross_entropy_objective\": {\"sum\": 0.170296999709846, \"count\": 1, \"min\": 0.170296999709846, \"max\": 0.170296999709846}}}\u001b[0m\n",
      "\u001b[34m#metrics {\"StartTime\": 1700106224.0191202, \"EndTime\": 1700106224.0191388, \"Dimensions\": {\"Algorithm\": \"Linear Learner\", \"Host\": \"algo-1\", \"Operation\": \"training\", \"epoch\": 0, \"model\": 3}, \"Metrics\": {\"train_binary_classification_cross_entropy_objective\": {\"sum\": 0.15708583712013516, \"count\": 1, \"min\": 0.15708583712013516, \"max\": 0.15708583712013516}}}\u001b[0m\n",
      "\u001b[34m#metrics {\"StartTime\": 1700106224.0191946, \"EndTime\": 1700106224.019212, \"Dimensions\": {\"Algorithm\": \"Linear Learner\", \"Host\": \"algo-1\", \"Operation\": \"training\", \"epoch\": 0, \"model\": 4}, \"Metrics\": {\"train_binary_classification_cross_entropy_objective\": {\"sum\": 0.13747564963405653, \"count\": 1, \"min\": 0.13747564963405653, \"max\": 0.13747564963405653}}}\u001b[0m\n",
      "\u001b[34m#metrics {\"StartTime\": 1700106224.0192714, \"EndTime\": 1700106224.0192895, \"Dimensions\": {\"Algorithm\": \"Linear Learner\", \"Host\": \"algo-1\", \"Operation\": \"training\", \"epoch\": 0, \"model\": 5}, \"Metrics\": {\"train_binary_classification_cross_entropy_objective\": {\"sum\": 0.152955984316634, \"count\": 1, \"min\": 0.152955984316634, \"max\": 0.152955984316634}}}\u001b[0m\n",
      "\u001b[34m#metrics {\"StartTime\": 1700106224.0193567, \"EndTime\": 1700106224.019375, \"Dimensions\": {\"Algorithm\": \"Linear Learner\", \"Host\": \"algo-1\", \"Operation\": \"training\", \"epoch\": 0, \"model\": 6}, \"Metrics\": {\"train_binary_classification_cross_entropy_objective\": {\"sum\": 0.1372744041709505, \"count\": 1, \"min\": 0.1372744041709505, \"max\": 0.1372744041709505}}}\u001b[0m\n",
      "\u001b[34m#metrics {\"StartTime\": 1700106224.0194435, \"EndTime\": 1700106224.0194607, \"Dimensions\": {\"Algorithm\": \"Linear Learner\", \"Host\": \"algo-1\", \"Operation\": \"training\", \"epoch\": 0, \"model\": 7}, \"Metrics\": {\"train_binary_classification_cross_entropy_objective\": {\"sum\": 0.15241822823970275, \"count\": 1, \"min\": 0.15241822823970275, \"max\": 0.15241822823970275}}}\u001b[0m\n",
      "\u001b[34m#metrics {\"StartTime\": 1700106224.0195205, \"EndTime\": 1700106224.0195382, \"Dimensions\": {\"Algorithm\": \"Linear Learner\", \"Host\": \"algo-1\", \"Operation\": \"training\", \"epoch\": 0, \"model\": 8}, \"Metrics\": {\"train_binary_classification_cross_entropy_objective\": {\"sum\": 0.17713557329544655, \"count\": 1, \"min\": 0.17713557329544655, \"max\": 0.17713557329544655}}}\u001b[0m\n",
      "\u001b[34m#metrics {\"StartTime\": 1700106224.0195947, \"EndTime\": 1700106224.0196116, \"Dimensions\": {\"Algorithm\": \"Linear Learner\", \"Host\": \"algo-1\", \"Operation\": \"training\", \"epoch\": 0, \"model\": 9}, \"Metrics\": {\"train_binary_classification_cross_entropy_objective\": {\"sum\": 0.17230022787624563, \"count\": 1, \"min\": 0.17230022787624563, \"max\": 0.17230022787624563}}}\u001b[0m\n",
      "\u001b[34m#metrics {\"StartTime\": 1700106224.0196638, \"EndTime\": 1700106224.0196805, \"Dimensions\": {\"Algorithm\": \"Linear Learner\", \"Host\": \"algo-1\", \"Operation\": \"training\", \"epoch\": 0, \"model\": 10}, \"Metrics\": {\"train_binary_classification_cross_entropy_objective\": {\"sum\": 0.17830723791150652, \"count\": 1, \"min\": 0.17830723791150652, \"max\": 0.17830723791150652}}}\u001b[0m\n",
      "\u001b[34m#metrics {\"StartTime\": 1700106224.0197449, \"EndTime\": 1700106224.0197635, \"Dimensions\": {\"Algorithm\": \"Linear Learner\", \"Host\": \"algo-1\", \"Operation\": \"training\", \"epoch\": 0, \"model\": 11}, \"Metrics\": {\"train_binary_classification_cross_entropy_objective\": {\"sum\": 0.17177219016453218, \"count\": 1, \"min\": 0.17177219016453218, \"max\": 0.17177219016453218}}}\u001b[0m\n",
      "\u001b[34m#metrics {\"StartTime\": 1700106224.019812, \"EndTime\": 1700106224.0198293, \"Dimensions\": {\"Algorithm\": \"Linear Learner\", \"Host\": \"algo-1\", \"Operation\": \"training\", \"epoch\": 0, \"model\": 12}, \"Metrics\": {\"train_binary_classification_cross_entropy_objective\": {\"sum\": 0.16222070335213248, \"count\": 1, \"min\": 0.16222070335213248, \"max\": 0.16222070335213248}}}\u001b[0m\n",
      "\u001b[34m#metrics {\"StartTime\": 1700106224.019879, \"EndTime\": 1700106224.019896, \"Dimensions\": {\"Algorithm\": \"Linear Learner\", \"Host\": \"algo-1\", \"Operation\": \"training\", \"epoch\": 0, \"model\": 13}, \"Metrics\": {\"train_binary_classification_cross_entropy_objective\": {\"sum\": 0.17527294469161853, \"count\": 1, \"min\": 0.17527294469161853, \"max\": 0.17527294469161853}}}\u001b[0m\n",
      "\u001b[34m#metrics {\"StartTime\": 1700106224.01995, \"EndTime\": 1700106224.019967, \"Dimensions\": {\"Algorithm\": \"Linear Learner\", \"Host\": \"algo-1\", \"Operation\": \"training\", \"epoch\": 0, \"model\": 14}, \"Metrics\": {\"train_binary_classification_cross_entropy_objective\": {\"sum\": 0.16226657592897584, \"count\": 1, \"min\": 0.16226657592897584, \"max\": 0.16226657592897584}}}\u001b[0m\n",
      "\u001b[34m#metrics {\"StartTime\": 1700106224.0200217, \"EndTime\": 1700106224.0200386, \"Dimensions\": {\"Algorithm\": \"Linear Learner\", \"Host\": \"algo-1\", \"Operation\": \"training\", \"epoch\": 0, \"model\": 15}, \"Metrics\": {\"train_binary_classification_cross_entropy_objective\": {\"sum\": 0.17517456400606055, \"count\": 1, \"min\": 0.17517456400606055, \"max\": 0.17517456400606055}}}\u001b[0m\n",
      "\u001b[34m#metrics {\"StartTime\": 1700106224.0200913, \"EndTime\": 1700106224.0201082, \"Dimensions\": {\"Algorithm\": \"Linear Learner\", \"Host\": \"algo-1\", \"Operation\": \"training\", \"epoch\": 0, \"model\": 16}, \"Metrics\": {\"train_binary_classification_cross_entropy_objective\": {\"sum\": 0.40792604596516086, \"count\": 1, \"min\": 0.40792604596516086, \"max\": 0.40792604596516086}}}\u001b[0m\n",
      "\u001b[34m#metrics {\"StartTime\": 1700106224.0201697, \"EndTime\": 1700106224.0201864, \"Dimensions\": {\"Algorithm\": \"Linear Learner\", \"Host\": \"algo-1\", \"Operation\": \"training\", \"epoch\": 0, \"model\": 17}, \"Metrics\": {\"train_binary_classification_cross_entropy_objective\": {\"sum\": 0.40840619452888444, \"count\": 1, \"min\": 0.40840619452888444, \"max\": 0.40840619452888444}}}\u001b[0m\n",
      "\u001b[34m#metrics {\"StartTime\": 1700106224.020247, \"EndTime\": 1700106224.0202641, \"Dimensions\": {\"Algorithm\": \"Linear Learner\", \"Host\": \"algo-1\", \"Operation\": \"training\", \"epoch\": 0, \"model\": 18}, \"Metrics\": {\"train_binary_classification_cross_entropy_objective\": {\"sum\": 0.40830907241550424, \"count\": 1, \"min\": 0.40830907241550424, \"max\": 0.40830907241550424}}}\u001b[0m\n",
      "\u001b[34m#metrics {\"StartTime\": 1700106224.0203211, \"EndTime\": 1700106224.0203388, \"Dimensions\": {\"Algorithm\": \"Linear Learner\", \"Host\": \"algo-1\", \"Operation\": \"training\", \"epoch\": 0, \"model\": 19}, \"Metrics\": {\"train_binary_classification_cross_entropy_objective\": {\"sum\": 0.40902907951625844, \"count\": 1, \"min\": 0.40902907951625844, \"max\": 0.40902907951625844}}}\u001b[0m\n",
      "\u001b[34m#metrics {\"StartTime\": 1700106224.0203943, \"EndTime\": 1700106224.0204105, \"Dimensions\": {\"Algorithm\": \"Linear Learner\", \"Host\": \"algo-1\", \"Operation\": \"training\", \"epoch\": 0, \"model\": 20}, \"Metrics\": {\"train_binary_classification_cross_entropy_objective\": {\"sum\": 0.41032305136234803, \"count\": 1, \"min\": 0.41032305136234803, \"max\": 0.41032305136234803}}}\u001b[0m\n",
      "\u001b[34m#metrics {\"StartTime\": 1700106224.0204644, \"EndTime\": 1700106224.0204809, \"Dimensions\": {\"Algorithm\": \"Linear Learner\", \"Host\": \"algo-1\", \"Operation\": \"training\", \"epoch\": 0, \"model\": 21}, \"Metrics\": {\"train_binary_classification_cross_entropy_objective\": {\"sum\": 0.4168496365518965, \"count\": 1, \"min\": 0.4168496365518965, \"max\": 0.4168496365518965}}}\u001b[0m\n",
      "\u001b[34m#metrics {\"StartTime\": 1700106224.020536, \"EndTime\": 1700106224.0205536, \"Dimensions\": {\"Algorithm\": \"Linear Learner\", \"Host\": \"algo-1\", \"Operation\": \"training\", \"epoch\": 0, \"model\": 22}, \"Metrics\": {\"train_binary_classification_cross_entropy_objective\": {\"sum\": 0.410287380241078, \"count\": 1, \"min\": 0.410287380241078, \"max\": 0.410287380241078}}}\u001b[0m\n",
      "\u001b[34m#metrics {\"StartTime\": 1700106224.0206065, \"EndTime\": 1700106224.0206227, \"Dimensions\": {\"Algorithm\": \"Linear Learner\", \"Host\": \"algo-1\", \"Operation\": \"training\", \"epoch\": 0, \"model\": 23}, \"Metrics\": {\"train_binary_classification_cross_entropy_objective\": {\"sum\": 0.4168542032185391, \"count\": 1, \"min\": 0.4168542032185391, \"max\": 0.4168542032185391}}}\u001b[0m\n",
      "\u001b[34m#metrics {\"StartTime\": 1700106224.0206761, \"EndTime\": 1700106224.0206935, \"Dimensions\": {\"Algorithm\": \"Linear Learner\", \"Host\": \"algo-1\", \"Operation\": \"training\", \"epoch\": 0, \"model\": 24}, \"Metrics\": {\"train_binary_classification_cross_entropy_objective\": {\"sum\": 0.6858621627311029, \"count\": 1, \"min\": 0.6858621627311029, \"max\": 0.6858621627311029}}}\u001b[0m\n",
      "\u001b[34m#metrics {\"StartTime\": 1700106224.0207565, \"EndTime\": 1700106224.0207736, \"Dimensions\": {\"Algorithm\": \"Linear Learner\", \"Host\": \"algo-1\", \"Operation\": \"training\", \"epoch\": 0, \"model\": 25}, \"Metrics\": {\"train_binary_classification_cross_entropy_objective\": {\"sum\": 0.6861724808371279, \"count\": 1, \"min\": 0.6861724808371279, \"max\": 0.6861724808371279}}}\u001b[0m\n",
      "\u001b[34m#metrics {\"StartTime\": 1700106224.0208373, \"EndTime\": 1700106224.0208547, \"Dimensions\": {\"Algorithm\": \"Linear Learner\", \"Host\": \"algo-1\", \"Operation\": \"training\", \"epoch\": 0, \"model\": 26}, \"Metrics\": {\"train_binary_classification_cross_entropy_objective\": {\"sum\": 0.6858005532936232, \"count\": 1, \"min\": 0.6858005532936232, \"max\": 0.6858005532936232}}}\u001b[0m\n",
      "\u001b[34m#metrics {\"StartTime\": 1700106224.0209024, \"EndTime\": 1700106224.0209177, \"Dimensions\": {\"Algorithm\": \"Linear Learner\", \"Host\": \"algo-1\", \"Operation\": \"training\", \"epoch\": 0, \"model\": 27}, \"Metrics\": {\"train_binary_classification_cross_entropy_objective\": {\"sum\": 0.6862388287832045, \"count\": 1, \"min\": 0.6862388287832045, \"max\": 0.6862388287832045}}}\u001b[0m\n",
      "\u001b[34m#metrics {\"StartTime\": 1700106224.020971, \"EndTime\": 1700106224.0209877, \"Dimensions\": {\"Algorithm\": \"Linear Learner\", \"Host\": \"algo-1\", \"Operation\": \"training\", \"epoch\": 0, \"model\": 28}, \"Metrics\": {\"train_binary_classification_cross_entropy_objective\": {\"sum\": 0.6883455392284507, \"count\": 1, \"min\": 0.6883455392284507, \"max\": 0.6883455392284507}}}\u001b[0m\n",
      "\u001b[34m#metrics {\"StartTime\": 1700106224.021038, \"EndTime\": 1700106224.021055, \"Dimensions\": {\"Algorithm\": \"Linear Learner\", \"Host\": \"algo-1\", \"Operation\": \"training\", \"epoch\": 0, \"model\": 29}, \"Metrics\": {\"train_binary_classification_cross_entropy_objective\": {\"sum\": 0.6927137673733502, \"count\": 1, \"min\": 0.6927137673733502, \"max\": 0.6927137673733502}}}\u001b[0m\n",
      "\u001b[34m#metrics {\"StartTime\": 1700106224.0211248, \"EndTime\": 1700106224.0211427, \"Dimensions\": {\"Algorithm\": \"Linear Learner\", \"Host\": \"algo-1\", \"Operation\": \"training\", \"epoch\": 0, \"model\": 30}, \"Metrics\": {\"train_binary_classification_cross_entropy_objective\": {\"sum\": 0.6883593286819006, \"count\": 1, \"min\": 0.6883593286819006, \"max\": 0.6883593286819006}}}\u001b[0m\n",
      "\u001b[34m#metrics {\"StartTime\": 1700106224.0212033, \"EndTime\": 1700106224.0212214, \"Dimensions\": {\"Algorithm\": \"Linear Learner\", \"Host\": \"algo-1\", \"Operation\": \"training\", \"epoch\": 0, \"model\": 31}, \"Metrics\": {\"train_binary_classification_cross_entropy_objective\": {\"sum\": 0.6927274254793246, \"count\": 1, \"min\": 0.6927274254793246, \"max\": 0.6927274254793246}}}\u001b[0m\n",
      "\u001b[34m[11/16/2023 03:43:44 INFO 140453937297216] #quality_metric: host=algo-1, epoch=0, train binary_classification_cross_entropy_objective <loss>=0.1700193332426647\u001b[0m\n",
      "\u001b[34m[11/16/2023 03:43:44 INFO 140453937297216] #early_stopping_criteria_metric: host=algo-1, epoch=0, criteria=binary_classification_cross_entropy_objective, value=0.1372744041709505\u001b[0m\n",
      "\u001b[34m[11/16/2023 03:43:44 INFO 140453937297216] Epoch 0: Loss improved. Updating best model\u001b[0m\n",
      "\u001b[34m[11/16/2023 03:43:44 INFO 140453937297216] Saving model for epoch: 0\u001b[0m\n",
      "\u001b[34m[11/16/2023 03:43:44 INFO 140453937297216] Saved checkpoint to \"/tmp/tmp8gfrtdfe/mx-mod-0000.params\"\u001b[0m\n",
      "\u001b[34m[11/16/2023 03:43:44 INFO 140453937297216] #progress_metric: host=algo-1, completed 10.0 % of epochs\u001b[0m\n",
      "\u001b[34m#metrics {\"StartTime\": 1700106109.3978748, \"EndTime\": 1700106224.0320306, \"Dimensions\": {\"Algorithm\": \"Linear Learner\", \"Host\": \"algo-1\", \"Operation\": \"training\", \"epoch\": 0, \"Meta\": \"training_data_iter\"}, \"Metrics\": {\"Total Records Seen\": {\"sum\": 348232.0, \"count\": 1, \"min\": 348232, \"max\": 348232}, \"Total Batches Seen\": {\"sum\": 3483.0, \"count\": 1, \"min\": 3483, \"max\": 3483}, \"Max Records Seen Between Resets\": {\"sum\": 338032.0, \"count\": 1, \"min\": 338032, \"max\": 338032}, \"Max Batches Seen Between Resets\": {\"sum\": 3381.0, \"count\": 1, \"min\": 3381, \"max\": 3381}, \"Reset Count\": {\"sum\": 3.0, \"count\": 1, \"min\": 3, \"max\": 3}, \"Number of Records Since Last Reset\": {\"sum\": 338032.0, \"count\": 1, \"min\": 338032, \"max\": 338032}, \"Number of Batches Since Last Reset\": {\"sum\": 3381.0, \"count\": 1, \"min\": 3381, \"max\": 3381}}}\u001b[0m\n",
      "\u001b[34m[11/16/2023 03:43:44 INFO 140453937297216] #throughput_metric: host=algo-1, train throughput=2948.785595588382 records/second\u001b[0m\n",
      "\u001b[34m[2023-11-16 03:45:38.985] [tensorio] [info] epoch_stats={\"data_pipeline\": \"/opt/ml/input/data/train\", \"epoch\": 5, \"duration\": 114949, \"num_examples\": 3381, \"num_bytes\": 52732992}\u001b[0m\n",
      "\u001b[34m#metrics {\"StartTime\": 1700106338.985316, \"EndTime\": 1700106338.9854064, \"Dimensions\": {\"Algorithm\": \"Linear Learner\", \"Host\": \"algo-1\", \"Operation\": \"training\", \"epoch\": 1, \"model\": 0}, \"Metrics\": {\"train_binary_classification_cross_entropy_objective\": {\"sum\": 0.14661287314369834, \"count\": 1, \"min\": 0.14661287314369834, \"max\": 0.14661287314369834}}}\u001b[0m\n",
      "\u001b[34m#metrics {\"StartTime\": 1700106338.985518, \"EndTime\": 1700106338.9855444, \"Dimensions\": {\"Algorithm\": \"Linear Learner\", \"Host\": \"algo-1\", \"Operation\": \"training\", \"epoch\": 1, \"model\": 1}, \"Metrics\": {\"train_binary_classification_cross_entropy_objective\": {\"sum\": 0.12982615853907795, \"count\": 1, \"min\": 0.12982615853907795, \"max\": 0.12982615853907795}}}\u001b[0m\n",
      "\u001b[34m#metrics {\"StartTime\": 1700106338.9856393, \"EndTime\": 1700106338.9856584, \"Dimensions\": {\"Algorithm\": \"Linear Learner\", \"Host\": \"algo-1\", \"Operation\": \"training\", \"epoch\": 1, \"model\": 2}, \"Metrics\": {\"train_binary_classification_cross_entropy_objective\": {\"sum\": 0.14600989823369584, \"count\": 1, \"min\": 0.14600989823369584, \"max\": 0.14600989823369584}}}\u001b[0m\n",
      "\u001b[34m#metrics {\"StartTime\": 1700106338.9857154, \"EndTime\": 1700106338.985733, \"Dimensions\": {\"Algorithm\": \"Linear Learner\", \"Host\": \"algo-1\", \"Operation\": \"training\", \"epoch\": 1, \"model\": 3}, \"Metrics\": {\"train_binary_classification_cross_entropy_objective\": {\"sum\": 0.12985748647232734, \"count\": 1, \"min\": 0.12985748647232734, \"max\": 0.12985748647232734}}}\u001b[0m\n",
      "\u001b[34m#metrics {\"StartTime\": 1700106338.98579, \"EndTime\": 1700106338.985808, \"Dimensions\": {\"Algorithm\": \"Linear Learner\", \"Host\": \"algo-1\", \"Operation\": \"training\", \"epoch\": 1, \"model\": 4}, \"Metrics\": {\"train_binary_classification_cross_entropy_objective\": {\"sum\": 0.12862094806989974, \"count\": 1, \"min\": 0.12862094806989974, \"max\": 0.12862094806989974}}}\u001b[0m\n",
      "\u001b[34m#metrics {\"StartTime\": 1700106338.9858615, \"EndTime\": 1700106338.9858775, \"Dimensions\": {\"Algorithm\": \"Linear Learner\", \"Host\": \"algo-1\", \"Operation\": \"training\", \"epoch\": 1, \"model\": 5}, \"Metrics\": {\"train_binary_classification_cross_entropy_objective\": {\"sum\": 0.14463957693308768, \"count\": 1, \"min\": 0.14463957693308768, \"max\": 0.14463957693308768}}}\u001b[0m\n",
      "\u001b[34m#metrics {\"StartTime\": 1700106338.9859405, \"EndTime\": 1700106338.9859586, \"Dimensions\": {\"Algorithm\": \"Linear Learner\", \"Host\": \"algo-1\", \"Operation\": \"training\", \"epoch\": 1, \"model\": 6}, \"Metrics\": {\"train_binary_classification_cross_entropy_objective\": {\"sum\": 0.1286177922374398, \"count\": 1, \"min\": 0.1286177922374398, \"max\": 0.1286177922374398}}}\u001b[0m\n",
      "\u001b[34m#metrics {\"StartTime\": 1700106338.98601, \"EndTime\": 1700106338.9860256, \"Dimensions\": {\"Algorithm\": \"Linear Learner\", \"Host\": \"algo-1\", \"Operation\": \"training\", \"epoch\": 1, \"model\": 7}, \"Metrics\": {\"train_binary_classification_cross_entropy_objective\": {\"sum\": 0.14489298789529406, \"count\": 1, \"min\": 0.14489298789529406, \"max\": 0.14489298789529406}}}\u001b[0m\n",
      "\u001b[34m#metrics {\"StartTime\": 1700106338.986085, \"EndTime\": 1700106338.9861014, \"Dimensions\": {\"Algorithm\": \"Linear Learner\", \"Host\": \"algo-1\", \"Operation\": \"training\", \"epoch\": 1, \"model\": 8}, \"Metrics\": {\"train_binary_classification_cross_entropy_objective\": {\"sum\": 0.15817828207749587, \"count\": 1, \"min\": 0.15817828207749587, \"max\": 0.15817828207749587}}}\u001b[0m\n",
      "\u001b[34m#metrics {\"StartTime\": 1700106338.9861457, \"EndTime\": 1700106338.9861617, \"Dimensions\": {\"Algorithm\": \"Linear Learner\", \"Host\": \"algo-1\", \"Operation\": \"training\", \"epoch\": 1, \"model\": 9}, \"Metrics\": {\"train_binary_classification_cross_entropy_objective\": {\"sum\": 0.15506446842329036, \"count\": 1, \"min\": 0.15506446842329036, \"max\": 0.15506446842329036}}}\u001b[0m\n",
      "\u001b[34m#metrics {\"StartTime\": 1700106338.986218, \"EndTime\": 1700106338.9862347, \"Dimensions\": {\"Algorithm\": \"Linear Learner\", \"Host\": \"algo-1\", \"Operation\": \"training\", \"epoch\": 1, \"model\": 10}, \"Metrics\": {\"train_binary_classification_cross_entropy_objective\": {\"sum\": 0.15821128656455047, \"count\": 1, \"min\": 0.15821128656455047, \"max\": 0.15821128656455047}}}\u001b[0m\n",
      "\u001b[34m#metrics {\"StartTime\": 1700106338.9862878, \"EndTime\": 1700106338.9863057, \"Dimensions\": {\"Algorithm\": \"Linear Learner\", \"Host\": \"algo-1\", \"Operation\": \"training\", \"epoch\": 1, \"model\": 11}, \"Metrics\": {\"train_binary_classification_cross_entropy_objective\": {\"sum\": 0.15506470989334512, \"count\": 1, \"min\": 0.15506470989334512, \"max\": 0.15506470989334512}}}\u001b[0m\n",
      "\u001b[34m#metrics {\"StartTime\": 1700106338.9863708, \"EndTime\": 1700106338.9863875, \"Dimensions\": {\"Algorithm\": \"Linear Learner\", \"Host\": \"algo-1\", \"Operation\": \"training\", \"epoch\": 1, \"model\": 12}, \"Metrics\": {\"train_binary_classification_cross_entropy_objective\": {\"sum\": 0.15468447665208895, \"count\": 1, \"min\": 0.15468447665208895, \"max\": 0.15468447665208895}}}\u001b[0m\n",
      "\u001b[34m#metrics {\"StartTime\": 1700106338.9864404, \"EndTime\": 1700106338.9864564, \"Dimensions\": {\"Algorithm\": \"Linear Learner\", \"Host\": \"algo-1\", \"Operation\": \"training\", \"epoch\": 1, \"model\": 13}, \"Metrics\": {\"train_binary_classification_cross_entropy_objective\": {\"sum\": 0.16883565708730347, \"count\": 1, \"min\": 0.16883565708730347, \"max\": 0.16883565708730347}}}\u001b[0m\n",
      "\u001b[34m#metrics {\"StartTime\": 1700106338.9865198, \"EndTime\": 1700106338.986537, \"Dimensions\": {\"Algorithm\": \"Linear Learner\", \"Host\": \"algo-1\", \"Operation\": \"training\", \"epoch\": 1, \"model\": 14}, \"Metrics\": {\"train_binary_classification_cross_entropy_objective\": {\"sum\": 0.15468455339042392, \"count\": 1, \"min\": 0.15468455339042392, \"max\": 0.15468455339042392}}}\u001b[0m\n",
      "\u001b[34m#metrics {\"StartTime\": 1700106338.9865828, \"EndTime\": 1700106338.9865975, \"Dimensions\": {\"Algorithm\": \"Linear Learner\", \"Host\": \"algo-1\", \"Operation\": \"training\", \"epoch\": 1, \"model\": 15}, \"Metrics\": {\"train_binary_classification_cross_entropy_objective\": {\"sum\": 0.16850354057797312, \"count\": 1, \"min\": 0.16850354057797312, \"max\": 0.16850354057797312}}}\u001b[0m\n",
      "\u001b[34m#metrics {\"StartTime\": 1700106338.9866464, \"EndTime\": 1700106338.9866624, \"Dimensions\": {\"Algorithm\": \"Linear Learner\", \"Host\": \"algo-1\", \"Operation\": \"training\", \"epoch\": 1, \"model\": 16}, \"Metrics\": {\"train_binary_classification_cross_entropy_objective\": {\"sum\": 0.4063873708375107, \"count\": 1, \"min\": 0.4063873708375107, \"max\": 0.4063873708375107}}}\u001b[0m\n",
      "\u001b[34m#metrics {\"StartTime\": 1700106338.986718, \"EndTime\": 1700106338.9867346, \"Dimensions\": {\"Algorithm\": \"Linear Learner\", \"Host\": \"algo-1\", \"Operation\": \"training\", \"epoch\": 1, \"model\": 17}, \"Metrics\": {\"train_binary_classification_cross_entropy_objective\": {\"sum\": 0.4069497664412098, \"count\": 1, \"min\": 0.4069497664412098, \"max\": 0.4069497664412098}}}\u001b[0m\n",
      "\u001b[34m#metrics {\"StartTime\": 1700106338.9867947, \"EndTime\": 1700106338.9868112, \"Dimensions\": {\"Algorithm\": \"Linear Learner\", \"Host\": \"algo-1\", \"Operation\": \"training\", \"epoch\": 1, \"model\": 18}, \"Metrics\": {\"train_binary_classification_cross_entropy_objective\": {\"sum\": 0.40647975918245033, \"count\": 1, \"min\": 0.40647975918245033, \"max\": 0.40647975918245033}}}\u001b[0m\n",
      "\u001b[34m#metrics {\"StartTime\": 1700106338.9868658, \"EndTime\": 1700106338.9868817, \"Dimensions\": {\"Algorithm\": \"Linear Learner\", \"Host\": \"algo-1\", \"Operation\": \"training\", \"epoch\": 1, \"model\": 19}, \"Metrics\": {\"train_binary_classification_cross_entropy_objective\": {\"sum\": 0.40694931629564635, \"count\": 1, \"min\": 0.40694931629564635, \"max\": 0.40694931629564635}}}\u001b[0m\n",
      "\u001b[34m#metrics {\"StartTime\": 1700106338.9869304, \"EndTime\": 1700106338.986946, \"Dimensions\": {\"Algorithm\": \"Linear Learner\", \"Host\": \"algo-1\", \"Operation\": \"training\", \"epoch\": 1, \"model\": 20}, \"Metrics\": {\"train_binary_classification_cross_entropy_objective\": {\"sum\": 0.40665723653940056, \"count\": 1, \"min\": 0.40665723653940056, \"max\": 0.40665723653940056}}}\u001b[0m\n",
      "\u001b[34m#metrics {\"StartTime\": 1700106338.987001, \"EndTime\": 1700106338.9870172, \"Dimensions\": {\"Algorithm\": \"Linear Learner\", \"Host\": \"algo-1\", \"Operation\": \"training\", \"epoch\": 1, \"model\": 21}, \"Metrics\": {\"train_binary_classification_cross_entropy_objective\": {\"sum\": 0.4143953069201588, \"count\": 1, \"min\": 0.4143953069201588, \"max\": 0.4143953069201588}}}\u001b[0m\n",
      "\u001b[34m#metrics {\"StartTime\": 1700106338.987081, \"EndTime\": 1700106338.9870992, \"Dimensions\": {\"Algorithm\": \"Linear Learner\", \"Host\": \"algo-1\", \"Operation\": \"training\", \"epoch\": 1, \"model\": 22}, \"Metrics\": {\"train_binary_classification_cross_entropy_objective\": {\"sum\": 0.4066572592131485, \"count\": 1, \"min\": 0.4066572592131485, \"max\": 0.4066572592131485}}}\u001b[0m\n",
      "\u001b[34m#metrics {\"StartTime\": 1700106338.9871495, \"EndTime\": 1700106338.9871652, \"Dimensions\": {\"Algorithm\": \"Linear Learner\", \"Host\": \"algo-1\", \"Operation\": \"training\", \"epoch\": 1, \"model\": 23}, \"Metrics\": {\"train_binary_classification_cross_entropy_objective\": {\"sum\": 0.41439561326969304, \"count\": 1, \"min\": 0.41439561326969304, \"max\": 0.41439561326969304}}}\u001b[0m\n",
      "\u001b[34m#metrics {\"StartTime\": 1700106338.9872258, \"EndTime\": 1700106338.987243, \"Dimensions\": {\"Algorithm\": \"Linear Learner\", \"Host\": \"algo-1\", \"Operation\": \"training\", \"epoch\": 1, \"model\": 24}, \"Metrics\": {\"train_binary_classification_cross_entropy_objective\": {\"sum\": 0.6856926676733254, \"count\": 1, \"min\": 0.6856926676733254, \"max\": 0.6856926676733254}}}\u001b[0m\n",
      "\u001b[34m#metrics {\"StartTime\": 1700106338.9872901, \"EndTime\": 1700106338.9873052, \"Dimensions\": {\"Algorithm\": \"Linear Learner\", \"Host\": \"algo-1\", \"Operation\": \"training\", \"epoch\": 1, \"model\": 25}, \"Metrics\": {\"train_binary_classification_cross_entropy_objective\": {\"sum\": 0.6860502848653398, \"count\": 1, \"min\": 0.6860502848653398, \"max\": 0.6860502848653398}}}\u001b[0m\n",
      "\u001b[34m#metrics {\"StartTime\": 1700106338.987364, \"EndTime\": 1700106338.9873803, \"Dimensions\": {\"Algorithm\": \"Linear Learner\", \"Host\": \"algo-1\", \"Operation\": \"training\", \"epoch\": 1, \"model\": 26}, \"Metrics\": {\"train_binary_classification_cross_entropy_objective\": {\"sum\": 0.6856974497236443, \"count\": 1, \"min\": 0.6856974497236443, \"max\": 0.6856974497236443}}}\u001b[0m\n",
      "\u001b[34m#metrics {\"StartTime\": 1700106338.9874332, \"EndTime\": 1700106338.9874492, \"Dimensions\": {\"Algorithm\": \"Linear Learner\", \"Host\": \"algo-1\", \"Operation\": \"training\", \"epoch\": 1, \"model\": 27}, \"Metrics\": {\"train_binary_classification_cross_entropy_objective\": {\"sum\": 0.6860500516722188, \"count\": 1, \"min\": 0.6860500516722188, \"max\": 0.6860500516722188}}}\u001b[0m\n",
      "\u001b[34m#metrics {\"StartTime\": 1700106338.987509, \"EndTime\": 1700106338.9875264, \"Dimensions\": {\"Algorithm\": \"Linear Learner\", \"Host\": \"algo-1\", \"Operation\": \"training\", \"epoch\": 1, \"model\": 28}, \"Metrics\": {\"train_binary_classification_cross_entropy_objective\": {\"sum\": 0.6858002196091872, \"count\": 1, \"min\": 0.6858002196091872, \"max\": 0.6858002196091872}}}\u001b[0m\n",
      "\u001b[34m#metrics {\"StartTime\": 1700106338.9875746, \"EndTime\": 1700106338.9875896, \"Dimensions\": {\"Algorithm\": \"Linear Learner\", \"Host\": \"algo-1\", \"Operation\": \"training\", \"epoch\": 1, \"model\": 29}, \"Metrics\": {\"train_binary_classification_cross_entropy_objective\": {\"sum\": 0.690987876779229, \"count\": 1, \"min\": 0.690987876779229, \"max\": 0.690987876779229}}}\u001b[0m\n",
      "\u001b[34m#metrics {\"StartTime\": 1700106338.9876482, \"EndTime\": 1700106338.9876652, \"Dimensions\": {\"Algorithm\": \"Linear Learner\", \"Host\": \"algo-1\", \"Operation\": \"training\", \"epoch\": 1, \"model\": 30}, \"Metrics\": {\"train_binary_classification_cross_entropy_objective\": {\"sum\": 0.6857998181405152, \"count\": 1, \"min\": 0.6857998181405152, \"max\": 0.6857998181405152}}}\u001b[0m\n",
      "\u001b[34m#metrics {\"StartTime\": 1700106338.9877164, \"EndTime\": 1700106338.9877305, \"Dimensions\": {\"Algorithm\": \"Linear Learner\", \"Host\": \"algo-1\", \"Operation\": \"training\", \"epoch\": 1, \"model\": 31}, \"Metrics\": {\"train_binary_classification_cross_entropy_objective\": {\"sum\": 0.6909881517534425, \"count\": 1, \"min\": 0.6909881517534425, \"max\": 0.6909881517534425}}}\u001b[0m\n",
      "\u001b[34m[11/16/2023 03:45:38 INFO 140453937297216] #quality_metric: host=algo-1, epoch=1, train binary_classification_cross_entropy_objective <loss>=0.14661287314369834\u001b[0m\n",
      "\u001b[34m[11/16/2023 03:45:38 INFO 140453937297216] #early_stopping_criteria_metric: host=algo-1, epoch=1, criteria=binary_classification_cross_entropy_objective, value=0.1286177922374398\u001b[0m\n",
      "\u001b[34m[11/16/2023 03:45:38 INFO 140453937297216] Epoch 1: Loss improved. Updating best model\u001b[0m\n",
      "\u001b[34m[11/16/2023 03:45:38 INFO 140453937297216] Saving model for epoch: 1\u001b[0m\n",
      "\u001b[34m[11/16/2023 03:45:38 INFO 140453937297216] Saved checkpoint to \"/tmp/tmprz02sa5t/mx-mod-0000.params\"\u001b[0m\n",
      "\u001b[34m[11/16/2023 03:45:38 INFO 140453937297216] #progress_metric: host=algo-1, completed 20.0 % of epochs\u001b[0m\n",
      "\u001b[34m#metrics {\"StartTime\": 1700106224.035308, \"EndTime\": 1700106338.99714, \"Dimensions\": {\"Algorithm\": \"Linear Learner\", \"Host\": \"algo-1\", \"Operation\": \"training\", \"epoch\": 1, \"Meta\": \"training_data_iter\"}, \"Metrics\": {\"Total Records Seen\": {\"sum\": 686264.0, \"count\": 1, \"min\": 686264, \"max\": 686264}, \"Total Batches Seen\": {\"sum\": 6864.0, \"count\": 1, \"min\": 6864, \"max\": 6864}, \"Max Records Seen Between Resets\": {\"sum\": 338032.0, \"count\": 1, \"min\": 338032, \"max\": 338032}, \"Max Batches Seen Between Resets\": {\"sum\": 3381.0, \"count\": 1, \"min\": 3381, \"max\": 3381}, \"Reset Count\": {\"sum\": 4.0, \"count\": 1, \"min\": 4, \"max\": 4}, \"Number of Records Since Last Reset\": {\"sum\": 338032.0, \"count\": 1, \"min\": 338032, \"max\": 338032}, \"Number of Batches Since Last Reset\": {\"sum\": 3381.0, \"count\": 1, \"min\": 3381, \"max\": 3381}}}\u001b[0m\n",
      "\u001b[34m[11/16/2023 03:45:38 INFO 140453937297216] #throughput_metric: host=algo-1, train throughput=2940.380832837547 records/second\u001b[0m\n",
      "\u001b[34m[2023-11-16 03:47:35.026] [tensorio] [info] epoch_stats={\"data_pipeline\": \"/opt/ml/input/data/train\", \"epoch\": 7, \"duration\": 116025, \"num_examples\": 3381, \"num_bytes\": 52732992}\u001b[0m\n",
      "\u001b[34m#metrics {\"StartTime\": 1700106455.0262656, \"EndTime\": 1700106455.0263638, \"Dimensions\": {\"Algorithm\": \"Linear Learner\", \"Host\": \"algo-1\", \"Operation\": \"training\", \"epoch\": 2, \"model\": 0}, \"Metrics\": {\"train_binary_classification_cross_entropy_objective\": {\"sum\": 0.14592607533155813, \"count\": 1, \"min\": 0.14592607533155813, \"max\": 0.14592607533155813}}}\u001b[0m\n",
      "\u001b[34m#metrics {\"StartTime\": 1700106455.0264647, \"EndTime\": 1700106455.026487, \"Dimensions\": {\"Algorithm\": \"Linear Learner\", \"Host\": \"algo-1\", \"Operation\": \"training\", \"epoch\": 2, \"model\": 1}, \"Metrics\": {\"train_binary_classification_cross_entropy_objective\": {\"sum\": 0.12904024512386886, \"count\": 1, \"min\": 0.12904024512386886, \"max\": 0.12904024512386886}}}\u001b[0m\n",
      "\u001b[34m#metrics {\"StartTime\": 1700106455.0265458, \"EndTime\": 1700106455.0265636, \"Dimensions\": {\"Algorithm\": \"Linear Learner\", \"Host\": \"algo-1\", \"Operation\": \"training\", \"epoch\": 2, \"model\": 2}, \"Metrics\": {\"train_binary_classification_cross_entropy_objective\": {\"sum\": 0.14269529669665726, \"count\": 1, \"min\": 0.14269529669665726, \"max\": 0.14269529669665726}}}\u001b[0m\n",
      "\u001b[34m#metrics {\"StartTime\": 1700106455.0266204, \"EndTime\": 1700106455.0266383, \"Dimensions\": {\"Algorithm\": \"Linear Learner\", \"Host\": \"algo-1\", \"Operation\": \"training\", \"epoch\": 2, \"model\": 3}, \"Metrics\": {\"train_binary_classification_cross_entropy_objective\": {\"sum\": 0.12905708598314658, \"count\": 1, \"min\": 0.12905708598314658, \"max\": 0.12905708598314658}}}\u001b[0m\n",
      "\u001b[34m#metrics {\"StartTime\": 1700106455.0266867, \"EndTime\": 1700106455.0267022, \"Dimensions\": {\"Algorithm\": \"Linear Learner\", \"Host\": \"algo-1\", \"Operation\": \"training\", \"epoch\": 2, \"model\": 4}, \"Metrics\": {\"train_binary_classification_cross_entropy_objective\": {\"sum\": 0.1283698937490847, \"count\": 1, \"min\": 0.1283698937490847, \"max\": 0.1283698937490847}}}\u001b[0m\n",
      "\u001b[34m#metrics {\"StartTime\": 1700106455.0267696, \"EndTime\": 1700106455.0267866, \"Dimensions\": {\"Algorithm\": \"Linear Learner\", \"Host\": \"algo-1\", \"Operation\": \"training\", \"epoch\": 2, \"model\": 5}, \"Metrics\": {\"train_binary_classification_cross_entropy_objective\": {\"sum\": 0.13969659043839697, \"count\": 1, \"min\": 0.13969659043839697, \"max\": 0.13969659043839697}}}\u001b[0m\n",
      "\u001b[34m#metrics {\"StartTime\": 1700106455.0268471, \"EndTime\": 1700106455.0268638, \"Dimensions\": {\"Algorithm\": \"Linear Learner\", \"Host\": \"algo-1\", \"Operation\": \"training\", \"epoch\": 2, \"model\": 6}, \"Metrics\": {\"train_binary_classification_cross_entropy_objective\": {\"sum\": 0.12838171690808245, \"count\": 1, \"min\": 0.12838171690808245, \"max\": 0.12838171690808245}}}\u001b[0m\n",
      "\u001b[34m#metrics {\"StartTime\": 1700106455.0269284, \"EndTime\": 1700106455.026946, \"Dimensions\": {\"Algorithm\": \"Linear Learner\", \"Host\": \"algo-1\", \"Operation\": \"training\", \"epoch\": 2, \"model\": 7}, \"Metrics\": {\"train_binary_classification_cross_entropy_objective\": {\"sum\": 0.13932014047817365, \"count\": 1, \"min\": 0.13932014047817365, \"max\": 0.13932014047817365}}}\u001b[0m\n",
      "\u001b[34m#metrics {\"StartTime\": 1700106455.0269947, \"EndTime\": 1700106455.027011, \"Dimensions\": {\"Algorithm\": \"Linear Learner\", \"Host\": \"algo-1\", \"Operation\": \"training\", \"epoch\": 2, \"model\": 8}, \"Metrics\": {\"train_binary_classification_cross_entropy_objective\": {\"sum\": 0.15778842353115421, \"count\": 1, \"min\": 0.15778842353115421, \"max\": 0.15778842353115421}}}\u001b[0m\n",
      "\u001b[34m#metrics {\"StartTime\": 1700106455.0270622, \"EndTime\": 1700106455.0270796, \"Dimensions\": {\"Algorithm\": \"Linear Learner\", \"Host\": \"algo-1\", \"Operation\": \"training\", \"epoch\": 2, \"model\": 9}, \"Metrics\": {\"train_binary_classification_cross_entropy_objective\": {\"sum\": 0.15491012959085274, \"count\": 1, \"min\": 0.15491012959085274, \"max\": 0.15491012959085274}}}\u001b[0m\n",
      "\u001b[34m#metrics {\"StartTime\": 1700106455.0271392, \"EndTime\": 1700106455.0271559, \"Dimensions\": {\"Algorithm\": \"Linear Learner\", \"Host\": \"algo-1\", \"Operation\": \"training\", \"epoch\": 2, \"model\": 10}, \"Metrics\": {\"train_binary_classification_cross_entropy_objective\": {\"sum\": 0.15657033621206792, \"count\": 1, \"min\": 0.15657033621206792, \"max\": 0.15657033621206792}}}\u001b[0m\n",
      "\u001b[34m#metrics {\"StartTime\": 1700106455.0272074, \"EndTime\": 1700106455.0272233, \"Dimensions\": {\"Algorithm\": \"Linear Learner\", \"Host\": \"algo-1\", \"Operation\": \"training\", \"epoch\": 2, \"model\": 11}, \"Metrics\": {\"train_binary_classification_cross_entropy_objective\": {\"sum\": 0.15491014118166366, \"count\": 1, \"min\": 0.15491014118166366, \"max\": 0.15491014118166366}}}\u001b[0m\n",
      "\u001b[34m#metrics {\"StartTime\": 1700106455.0272784, \"EndTime\": 1700106455.0272946, \"Dimensions\": {\"Algorithm\": \"Linear Learner\", \"Host\": \"algo-1\", \"Operation\": \"training\", \"epoch\": 2, \"model\": 12}, \"Metrics\": {\"train_binary_classification_cross_entropy_objective\": {\"sum\": 0.15453235788458197, \"count\": 1, \"min\": 0.15453235788458197, \"max\": 0.15453235788458197}}}\u001b[0m\n",
      "\u001b[34m#metrics {\"StartTime\": 1700106455.02735, \"EndTime\": 1700106455.0273662, \"Dimensions\": {\"Algorithm\": \"Linear Learner\", \"Host\": \"algo-1\", \"Operation\": \"training\", \"epoch\": 2, \"model\": 13}, \"Metrics\": {\"train_binary_classification_cross_entropy_objective\": {\"sum\": 0.16449504229302941, \"count\": 1, \"min\": 0.16449504229302941, \"max\": 0.16449504229302941}}}\u001b[0m\n",
      "\u001b[34m#metrics {\"StartTime\": 1700106455.0274317, \"EndTime\": 1700106455.027449, \"Dimensions\": {\"Algorithm\": \"Linear Learner\", \"Host\": \"algo-1\", \"Operation\": \"training\", \"epoch\": 2, \"model\": 14}, \"Metrics\": {\"train_binary_classification_cross_entropy_objective\": {\"sum\": 0.15454163884693348, \"count\": 1, \"min\": 0.15454163884693348, \"max\": 0.15454163884693348}}}\u001b[0m\n",
      "\u001b[34m#metrics {\"StartTime\": 1700106455.0275056, \"EndTime\": 1700106455.0275235, \"Dimensions\": {\"Algorithm\": \"Linear Learner\", \"Host\": \"algo-1\", \"Operation\": \"training\", \"epoch\": 2, \"model\": 15}, \"Metrics\": {\"train_binary_classification_cross_entropy_objective\": {\"sum\": 0.16429116995800178, \"count\": 1, \"min\": 0.16429116995800178, \"max\": 0.16429116995800178}}}\u001b[0m\n",
      "\u001b[34m#metrics {\"StartTime\": 1700106455.0275896, \"EndTime\": 1700106455.027608, \"Dimensions\": {\"Algorithm\": \"Linear Learner\", \"Host\": \"algo-1\", \"Operation\": \"training\", \"epoch\": 2, \"model\": 16}, \"Metrics\": {\"train_binary_classification_cross_entropy_objective\": {\"sum\": 0.4064780853090907, \"count\": 1, \"min\": 0.4064780853090907, \"max\": 0.4064780853090907}}}\u001b[0m\n",
      "\u001b[34m#metrics {\"StartTime\": 1700106455.0276685, \"EndTime\": 1700106455.0276854, \"Dimensions\": {\"Algorithm\": \"Linear Learner\", \"Host\": \"algo-1\", \"Operation\": \"training\", \"epoch\": 2, \"model\": 17}, \"Metrics\": {\"train_binary_classification_cross_entropy_objective\": {\"sum\": 0.4068269354916183, \"count\": 1, \"min\": 0.4068269354916183, \"max\": 0.4068269354916183}}}\u001b[0m\n",
      "\u001b[34m#metrics {\"StartTime\": 1700106455.0277426, \"EndTime\": 1700106455.0277603, \"Dimensions\": {\"Algorithm\": \"Linear Learner\", \"Host\": \"algo-1\", \"Operation\": \"training\", \"epoch\": 2, \"model\": 18}, \"Metrics\": {\"train_binary_classification_cross_entropy_objective\": {\"sum\": 0.406496069112473, \"count\": 1, \"min\": 0.406496069112473, \"max\": 0.406496069112473}}}\u001b[0m\n",
      "\u001b[34m#metrics {\"StartTime\": 1700106455.0278163, \"EndTime\": 1700106455.0278323, \"Dimensions\": {\"Algorithm\": \"Linear Learner\", \"Host\": \"algo-1\", \"Operation\": \"training\", \"epoch\": 2, \"model\": 19}, \"Metrics\": {\"train_binary_classification_cross_entropy_objective\": {\"sum\": 0.40682692771550466, \"count\": 1, \"min\": 0.40682692771550466, \"max\": 0.40682692771550466}}}\u001b[0m\n",
      "\u001b[34m#metrics {\"StartTime\": 1700106455.027889, \"EndTime\": 1700106455.0279057, \"Dimensions\": {\"Algorithm\": \"Linear Learner\", \"Host\": \"algo-1\", \"Operation\": \"training\", \"epoch\": 2, \"model\": 20}, \"Metrics\": {\"train_binary_classification_cross_entropy_objective\": {\"sum\": 0.4063752899621365, \"count\": 1, \"min\": 0.4063752899621365, \"max\": 0.4063752899621365}}}\u001b[0m\n",
      "\u001b[34m#metrics {\"StartTime\": 1700106455.027952, \"EndTime\": 1700106455.027967, \"Dimensions\": {\"Algorithm\": \"Linear Learner\", \"Host\": \"algo-1\", \"Operation\": \"training\", \"epoch\": 2, \"model\": 21}, \"Metrics\": {\"train_binary_classification_cross_entropy_objective\": {\"sum\": 0.412132181359466, \"count\": 1, \"min\": 0.412132181359466, \"max\": 0.412132181359466}}}\u001b[0m\n",
      "\u001b[34m#metrics {\"StartTime\": 1700106455.028022, \"EndTime\": 1700106455.028039, \"Dimensions\": {\"Algorithm\": \"Linear Learner\", \"Host\": \"algo-1\", \"Operation\": \"training\", \"epoch\": 2, \"model\": 22}, \"Metrics\": {\"train_binary_classification_cross_entropy_objective\": {\"sum\": 0.4064917676124347, \"count\": 1, \"min\": 0.4064917676124347, \"max\": 0.4064917676124347}}}\u001b[0m\n",
      "\u001b[34m#metrics {\"StartTime\": 1700106455.0280964, \"EndTime\": 1700106455.0281124, \"Dimensions\": {\"Algorithm\": \"Linear Learner\", \"Host\": \"algo-1\", \"Operation\": \"training\", \"epoch\": 2, \"model\": 23}, \"Metrics\": {\"train_binary_classification_cross_entropy_objective\": {\"sum\": 0.41213218177140815, \"count\": 1, \"min\": 0.41213218177140815, \"max\": 0.41213218177140815}}}\u001b[0m\n",
      "\u001b[34m#metrics {\"StartTime\": 1700106455.028163, \"EndTime\": 1700106455.028179, \"Dimensions\": {\"Algorithm\": \"Linear Learner\", \"Host\": \"algo-1\", \"Operation\": \"training\", \"epoch\": 2, \"model\": 24}, \"Metrics\": {\"train_binary_classification_cross_entropy_objective\": {\"sum\": 0.6856849434305224, \"count\": 1, \"min\": 0.6856849434305224, \"max\": 0.6856849434305224}}}\u001b[0m\n",
      "\u001b[34m#metrics {\"StartTime\": 1700106455.0282302, \"EndTime\": 1700106455.028247, \"Dimensions\": {\"Algorithm\": \"Linear Learner\", \"Host\": \"algo-1\", \"Operation\": \"training\", \"epoch\": 2, \"model\": 25}, \"Metrics\": {\"train_binary_classification_cross_entropy_objective\": {\"sum\": 0.6859606458675227, \"count\": 1, \"min\": 0.6859606458675227, \"max\": 0.6859606458675227}}}\u001b[0m\n",
      "\u001b[34m#metrics {\"StartTime\": 1700106455.0283024, \"EndTime\": 1700106455.0283196, \"Dimensions\": {\"Algorithm\": \"Linear Learner\", \"Host\": \"algo-1\", \"Operation\": \"training\", \"epoch\": 2, \"model\": 26}, \"Metrics\": {\"train_binary_classification_cross_entropy_objective\": {\"sum\": 0.685696720642451, \"count\": 1, \"min\": 0.685696720642451, \"max\": 0.685696720642451}}}\u001b[0m\n",
      "\u001b[34m#metrics {\"StartTime\": 1700106455.0283728, \"EndTime\": 1700106455.02839, \"Dimensions\": {\"Algorithm\": \"Linear Learner\", \"Host\": \"algo-1\", \"Operation\": \"training\", \"epoch\": 2, \"model\": 27}, \"Metrics\": {\"train_binary_classification_cross_entropy_objective\": {\"sum\": 0.685960643565161, \"count\": 1, \"min\": 0.685960643565161, \"max\": 0.685960643565161}}}\u001b[0m\n",
      "\u001b[34m#metrics {\"StartTime\": 1700106455.0284474, \"EndTime\": 1700106455.0284648, \"Dimensions\": {\"Algorithm\": \"Linear Learner\", \"Host\": \"algo-1\", \"Operation\": \"training\", \"epoch\": 2, \"model\": 28}, \"Metrics\": {\"train_binary_classification_cross_entropy_objective\": {\"sum\": 0.6856900710608127, \"count\": 1, \"min\": 0.6856900710608127, \"max\": 0.6856900710608127}}}\u001b[0m\n",
      "\u001b[34m#metrics {\"StartTime\": 1700106455.0285234, \"EndTime\": 1700106455.0285404, \"Dimensions\": {\"Algorithm\": \"Linear Learner\", \"Host\": \"algo-1\", \"Operation\": \"training\", \"epoch\": 2, \"model\": 29}, \"Metrics\": {\"train_binary_classification_cross_entropy_objective\": {\"sum\": 0.6894152721201879, \"count\": 1, \"min\": 0.6894152721201879, \"max\": 0.6894152721201879}}}\u001b[0m\n",
      "\u001b[34m#metrics {\"StartTime\": 1700106455.028593, \"EndTime\": 1700106455.0286088, \"Dimensions\": {\"Algorithm\": \"Linear Learner\", \"Host\": \"algo-1\", \"Operation\": \"training\", \"epoch\": 2, \"model\": 30}, \"Metrics\": {\"train_binary_classification_cross_entropy_objective\": {\"sum\": 0.6856966332429965, \"count\": 1, \"min\": 0.6856966332429965, \"max\": 0.6856966332429965}}}\u001b[0m\n",
      "\u001b[34m#metrics {\"StartTime\": 1700106455.028662, \"EndTime\": 1700106455.0286787, \"Dimensions\": {\"Algorithm\": \"Linear Learner\", \"Host\": \"algo-1\", \"Operation\": \"training\", \"epoch\": 2, \"model\": 31}, \"Metrics\": {\"train_binary_classification_cross_entropy_objective\": {\"sum\": 0.6894152733165132, \"count\": 1, \"min\": 0.6894152733165132, \"max\": 0.6894152733165132}}}\u001b[0m\n",
      "\u001b[34m[11/16/2023 03:47:35 INFO 140453937297216] #quality_metric: host=algo-1, epoch=2, train binary_classification_cross_entropy_objective <loss>=0.14592607533155813\u001b[0m\n",
      "\u001b[34m[11/16/2023 03:47:35 INFO 140453937297216] #early_stopping_criteria_metric: host=algo-1, epoch=2, criteria=binary_classification_cross_entropy_objective, value=0.1283698937490847\u001b[0m\n",
      "\u001b[34m[11/16/2023 03:47:35 INFO 140453937297216] Epoch 2: Loss improved. Updating best model\u001b[0m\n",
      "\u001b[34m[11/16/2023 03:47:35 INFO 140453937297216] Saving model for epoch: 2\u001b[0m\n",
      "\u001b[34m[11/16/2023 03:47:35 INFO 140453937297216] Saved checkpoint to \"/tmp/tmpq36ovebt/mx-mod-0000.params\"\u001b[0m\n",
      "\u001b[34m[11/16/2023 03:47:35 INFO 140453937297216] #progress_metric: host=algo-1, completed 30.0 % of epochs\u001b[0m\n",
      "\u001b[34m#metrics {\"StartTime\": 1700106339.0004306, \"EndTime\": 1700106455.037744, \"Dimensions\": {\"Algorithm\": \"Linear Learner\", \"Host\": \"algo-1\", \"Operation\": \"training\", \"epoch\": 2, \"Meta\": \"training_data_iter\"}, \"Metrics\": {\"Total Records Seen\": {\"sum\": 1024296.0, \"count\": 1, \"min\": 1024296, \"max\": 1024296}, \"Total Batches Seen\": {\"sum\": 10245.0, \"count\": 1, \"min\": 10245, \"max\": 10245}, \"Max Records Seen Between Resets\": {\"sum\": 338032.0, \"count\": 1, \"min\": 338032, \"max\": 338032}, \"Max Batches Seen Between Resets\": {\"sum\": 3381.0, \"count\": 1, \"min\": 3381, \"max\": 3381}, \"Reset Count\": {\"sum\": 5.0, \"count\": 1, \"min\": 5, \"max\": 5}, \"Number of Records Since Last Reset\": {\"sum\": 338032.0, \"count\": 1, \"min\": 338032, \"max\": 338032}, \"Number of Batches Since Last Reset\": {\"sum\": 3381.0, \"count\": 1, \"min\": 3381, \"max\": 3381}}}\u001b[0m\n",
      "\u001b[34m[11/16/2023 03:47:35 INFO 140453937297216] #throughput_metric: host=algo-1, train throughput=2913.1281280098397 records/second\u001b[0m\n",
      "\u001b[34m[2023-11-16 03:49:30.011] [tensorio] [info] epoch_stats={\"data_pipeline\": \"/opt/ml/input/data/train\", \"epoch\": 9, \"duration\": 114970, \"num_examples\": 3381, \"num_bytes\": 52732992}\u001b[0m\n",
      "\u001b[34m#metrics {\"StartTime\": 1700106570.0119328, \"EndTime\": 1700106570.0120246, \"Dimensions\": {\"Algorithm\": \"Linear Learner\", \"Host\": \"algo-1\", \"Operation\": \"training\", \"epoch\": 3, \"model\": 0}, \"Metrics\": {\"train_binary_classification_cross_entropy_objective\": {\"sum\": 0.14554046382706545, \"count\": 1, \"min\": 0.14554046382706545, \"max\": 0.14554046382706545}}}\u001b[0m\n",
      "\u001b[34m#metrics {\"StartTime\": 1700106570.0121286, \"EndTime\": 1700106570.0121496, \"Dimensions\": {\"Algorithm\": \"Linear Learner\", \"Host\": \"algo-1\", \"Operation\": \"training\", \"epoch\": 3, \"model\": 1}, \"Metrics\": {\"train_binary_classification_cross_entropy_objective\": {\"sum\": 0.1288183946468421, \"count\": 1, \"min\": 0.1288183946468421, \"max\": 0.1288183946468421}}}\u001b[0m\n",
      "\u001b[34m#metrics {\"StartTime\": 1700106570.0122125, \"EndTime\": 1700106570.0122304, \"Dimensions\": {\"Algorithm\": \"Linear Learner\", \"Host\": \"algo-1\", \"Operation\": \"training\", \"epoch\": 3, \"model\": 2}, \"Metrics\": {\"train_binary_classification_cross_entropy_objective\": {\"sum\": 0.1400411700906133, \"count\": 1, \"min\": 0.1400411700906133, \"max\": 0.1400411700906133}}}\u001b[0m\n",
      "\u001b[34m#metrics {\"StartTime\": 1700106570.0122678, \"EndTime\": 1700106570.0122814, \"Dimensions\": {\"Algorithm\": \"Linear Learner\", \"Host\": \"algo-1\", \"Operation\": \"training\", \"epoch\": 3, \"model\": 3}, \"Metrics\": {\"train_binary_classification_cross_entropy_objective\": {\"sum\": 0.1288316436166594, \"count\": 1, \"min\": 0.1288316436166594, \"max\": 0.1288316436166594}}}\u001b[0m\n",
      "\u001b[34m#metrics {\"StartTime\": 1700106570.0123346, \"EndTime\": 1700106570.0123515, \"Dimensions\": {\"Algorithm\": \"Linear Learner\", \"Host\": \"algo-1\", \"Operation\": \"training\", \"epoch\": 3, \"model\": 4}, \"Metrics\": {\"train_binary_classification_cross_entropy_objective\": {\"sum\": 0.12835509545633778, \"count\": 1, \"min\": 0.12835509545633778, \"max\": 0.12835509545633778}}}\u001b[0m\n",
      "\u001b[34m#metrics {\"StartTime\": 1700106570.0124233, \"EndTime\": 1700106570.0124402, \"Dimensions\": {\"Algorithm\": \"Linear Learner\", \"Host\": \"algo-1\", \"Operation\": \"training\", \"epoch\": 3, \"model\": 5}, \"Metrics\": {\"train_binary_classification_cross_entropy_objective\": {\"sum\": 0.13592119249084292, \"count\": 1, \"min\": 0.13592119249084292, \"max\": 0.13592119249084292}}}\u001b[0m\n",
      "\u001b[34m#metrics {\"StartTime\": 1700106570.0125067, \"EndTime\": 1700106570.0125248, \"Dimensions\": {\"Algorithm\": \"Linear Learner\", \"Host\": \"algo-1\", \"Operation\": \"training\", \"epoch\": 3, \"model\": 6}, \"Metrics\": {\"train_binary_classification_cross_entropy_objective\": {\"sum\": 0.12837916171339137, \"count\": 1, \"min\": 0.12837916171339137, \"max\": 0.12837916171339137}}}\u001b[0m\n",
      "\u001b[34m#metrics {\"StartTime\": 1700106570.012595, \"EndTime\": 1700106570.0126138, \"Dimensions\": {\"Algorithm\": \"Linear Learner\", \"Host\": \"algo-1\", \"Operation\": \"training\", \"epoch\": 3, \"model\": 7}, \"Metrics\": {\"train_binary_classification_cross_entropy_objective\": {\"sum\": 0.13592942335408115, \"count\": 1, \"min\": 0.13592942335408115, \"max\": 0.13592942335408115}}}\u001b[0m\n",
      "\u001b[34m#metrics {\"StartTime\": 1700106570.012684, \"EndTime\": 1700106570.0127027, \"Dimensions\": {\"Algorithm\": \"Linear Learner\", \"Host\": \"algo-1\", \"Operation\": \"training\", \"epoch\": 3, \"model\": 8}, \"Metrics\": {\"train_binary_classification_cross_entropy_objective\": {\"sum\": 0.15758482108313657, \"count\": 1, \"min\": 0.15758482108313657, \"max\": 0.15758482108313657}}}\u001b[0m\n",
      "\u001b[34m#metrics {\"StartTime\": 1700106570.0127707, \"EndTime\": 1700106570.01279, \"Dimensions\": {\"Algorithm\": \"Linear Learner\", \"Host\": \"algo-1\", \"Operation\": \"training\", \"epoch\": 3, \"model\": 9}, \"Metrics\": {\"train_binary_classification_cross_entropy_objective\": {\"sum\": 0.15479567215992854, \"count\": 1, \"min\": 0.15479567215992854, \"max\": 0.15479567215992854}}}\u001b[0m\n",
      "\u001b[34m#metrics {\"StartTime\": 1700106570.0128574, \"EndTime\": 1700106570.0128772, \"Dimensions\": {\"Algorithm\": \"Linear Learner\", \"Host\": \"algo-1\", \"Operation\": \"training\", \"epoch\": 3, \"model\": 10}, \"Metrics\": {\"train_binary_classification_cross_entropy_objective\": {\"sum\": 0.15566332117763496, \"count\": 1, \"min\": 0.15566332117763496, \"max\": 0.15566332117763496}}}\u001b[0m\n",
      "\u001b[34m#metrics {\"StartTime\": 1700106570.0129442, \"EndTime\": 1700106570.012962, \"Dimensions\": {\"Algorithm\": \"Linear Learner\", \"Host\": \"algo-1\", \"Operation\": \"training\", \"epoch\": 3, \"model\": 11}, \"Metrics\": {\"train_binary_classification_cross_entropy_objective\": {\"sum\": 0.15479567562475713, \"count\": 1, \"min\": 0.15479567562475713, \"max\": 0.15479567562475713}}}\u001b[0m\n",
      "\u001b[34m#metrics {\"StartTime\": 1700106570.0130324, \"EndTime\": 1700106570.013051, \"Dimensions\": {\"Algorithm\": \"Linear Learner\", \"Host\": \"algo-1\", \"Operation\": \"training\", \"epoch\": 3, \"model\": 12}, \"Metrics\": {\"train_binary_classification_cross_entropy_objective\": {\"sum\": 0.15450863491289715, \"count\": 1, \"min\": 0.15450863491289715, \"max\": 0.15450863491289715}}}\u001b[0m\n",
      "\u001b[34m#metrics {\"StartTime\": 1700106570.0131192, \"EndTime\": 1700106570.013137, \"Dimensions\": {\"Algorithm\": \"Linear Learner\", \"Host\": \"algo-1\", \"Operation\": \"training\", \"epoch\": 3, \"model\": 13}, \"Metrics\": {\"train_binary_classification_cross_entropy_objective\": {\"sum\": 0.16142379561260606, \"count\": 1, \"min\": 0.16142379561260606, \"max\": 0.16142379561260606}}}\u001b[0m\n",
      "\u001b[34m#metrics {\"StartTime\": 1700106570.0132082, \"EndTime\": 1700106570.013226, \"Dimensions\": {\"Algorithm\": \"Linear Learner\", \"Host\": \"algo-1\", \"Operation\": \"training\", \"epoch\": 3, \"model\": 14}, \"Metrics\": {\"train_binary_classification_cross_entropy_objective\": {\"sum\": 0.15450990293011863, \"count\": 1, \"min\": 0.15450990293011863, \"max\": 0.15450990293011863}}}\u001b[0m\n",
      "\u001b[34m#metrics {\"StartTime\": 1700106570.013296, \"EndTime\": 1700106570.0133142, \"Dimensions\": {\"Algorithm\": \"Linear Learner\", \"Host\": \"algo-1\", \"Operation\": \"training\", \"epoch\": 3, \"model\": 15}, \"Metrics\": {\"train_binary_classification_cross_entropy_objective\": {\"sum\": 0.16142415067853308, \"count\": 1, \"min\": 0.16142415067853308, \"max\": 0.16142415067853308}}}\u001b[0m\n",
      "\u001b[34m#metrics {\"StartTime\": 1700106570.0133736, \"EndTime\": 1700106570.013391, \"Dimensions\": {\"Algorithm\": \"Linear Learner\", \"Host\": \"algo-1\", \"Operation\": \"training\", \"epoch\": 3, \"model\": 16}, \"Metrics\": {\"train_binary_classification_cross_entropy_objective\": {\"sum\": 0.40647426137980625, \"count\": 1, \"min\": 0.40647426137980625, \"max\": 0.40647426137980625}}}\u001b[0m\n",
      "\u001b[34m#metrics {\"StartTime\": 1700106570.0134604, \"EndTime\": 1700106570.0134795, \"Dimensions\": {\"Algorithm\": \"Linear Learner\", \"Host\": \"algo-1\", \"Operation\": \"training\", \"epoch\": 3, \"model\": 17}, \"Metrics\": {\"train_binary_classification_cross_entropy_objective\": {\"sum\": 0.4067390399797428, \"count\": 1, \"min\": 0.4067390399797428, \"max\": 0.4067390399797428}}}\u001b[0m\n",
      "\u001b[34m#metrics {\"StartTime\": 1700106570.013534, \"EndTime\": 1700106570.0135589, \"Dimensions\": {\"Algorithm\": \"Linear Learner\", \"Host\": \"algo-1\", \"Operation\": \"training\", \"epoch\": 3, \"model\": 18}, \"Metrics\": {\"train_binary_classification_cross_entropy_objective\": {\"sum\": 0.4064960242051345, \"count\": 1, \"min\": 0.4064960242051345, \"max\": 0.4064960242051345}}}\u001b[0m\n",
      "\u001b[34m#metrics {\"StartTime\": 1700106570.0136588, \"EndTime\": 1700106570.0136778, \"Dimensions\": {\"Algorithm\": \"Linear Learner\", \"Host\": \"algo-1\", \"Operation\": \"training\", \"epoch\": 3, \"model\": 19}, \"Metrics\": {\"train_binary_classification_cross_entropy_objective\": {\"sum\": 0.4067390399233124, \"count\": 1, \"min\": 0.4067390399233124, \"max\": 0.4067390399233124}}}\u001b[0m\n",
      "\u001b[34m#metrics {\"StartTime\": 1700106570.0137448, \"EndTime\": 1700106570.0137618, \"Dimensions\": {\"Algorithm\": \"Linear Learner\", \"Host\": \"algo-1\", \"Operation\": \"training\", \"epoch\": 3, \"model\": 20}, \"Metrics\": {\"train_binary_classification_cross_entropy_objective\": {\"sum\": 0.4064666510926196, \"count\": 1, \"min\": 0.4064666510926196, \"max\": 0.4064666510926196}}}\u001b[0m\n",
      "\u001b[34m#metrics {\"StartTime\": 1700106570.013814, \"EndTime\": 1700106570.013831, \"Dimensions\": {\"Algorithm\": \"Linear Learner\", \"Host\": \"algo-1\", \"Operation\": \"training\", \"epoch\": 3, \"model\": 21}, \"Metrics\": {\"train_binary_classification_cross_entropy_objective\": {\"sum\": 0.41049304075071796, \"count\": 1, \"min\": 0.41049304075071796, \"max\": 0.41049304075071796}}}\u001b[0m\n",
      "\u001b[34m#metrics {\"StartTime\": 1700106570.0138857, \"EndTime\": 1700106570.0139024, \"Dimensions\": {\"Algorithm\": \"Linear Learner\", \"Host\": \"algo-1\", \"Operation\": \"training\", \"epoch\": 3, \"model\": 22}, \"Metrics\": {\"train_binary_classification_cross_entropy_objective\": {\"sum\": 0.4064960351977828, \"count\": 1, \"min\": 0.4064960351977828, \"max\": 0.4064960351977828}}}\u001b[0m\n",
      "\u001b[34m#metrics {\"StartTime\": 1700106570.0139558, \"EndTime\": 1700106570.0139725, \"Dimensions\": {\"Algorithm\": \"Linear Learner\", \"Host\": \"algo-1\", \"Operation\": \"training\", \"epoch\": 3, \"model\": 23}, \"Metrics\": {\"train_binary_classification_cross_entropy_objective\": {\"sum\": 0.41049304052499624, \"count\": 1, \"min\": 0.41049304052499624, \"max\": 0.41049304052499624}}}\u001b[0m\n",
      "\u001b[34m#metrics {\"StartTime\": 1700106570.0140445, \"EndTime\": 1700106570.0140638, \"Dimensions\": {\"Algorithm\": \"Linear Learner\", \"Host\": \"algo-1\", \"Operation\": \"training\", \"epoch\": 3, \"model\": 24}, \"Metrics\": {\"train_binary_classification_cross_entropy_objective\": {\"sum\": 0.6856847509576018, \"count\": 1, \"min\": 0.6856847509576018, \"max\": 0.6856847509576018}}}\u001b[0m\n",
      "\u001b[34m#metrics {\"StartTime\": 1700106570.0141225, \"EndTime\": 1700106570.0141394, \"Dimensions\": {\"Algorithm\": \"Linear Learner\", \"Host\": \"algo-1\", \"Operation\": \"training\", \"epoch\": 3, \"model\": 25}, \"Metrics\": {\"train_binary_classification_cross_entropy_objective\": {\"sum\": 0.6858889232612926, \"count\": 1, \"min\": 0.6858889232612926, \"max\": 0.6858889232612926}}}\u001b[0m\n",
      "\u001b[34m#metrics {\"StartTime\": 1700106570.0142086, \"EndTime\": 1700106570.014227, \"Dimensions\": {\"Algorithm\": \"Linear Learner\", \"Host\": \"algo-1\", \"Operation\": \"training\", \"epoch\": 3, \"model\": 26}, \"Metrics\": {\"train_binary_classification_cross_entropy_objective\": {\"sum\": 0.685696779691256, \"count\": 1, \"min\": 0.685696779691256, \"max\": 0.685696779691256}}}\u001b[0m\n",
      "\u001b[34m#metrics {\"StartTime\": 1700106570.0142975, \"EndTime\": 1700106570.0143166, \"Dimensions\": {\"Algorithm\": \"Linear Learner\", \"Host\": \"algo-1\", \"Operation\": \"training\", \"epoch\": 3, \"model\": 27}, \"Metrics\": {\"train_binary_classification_cross_entropy_objective\": {\"sum\": 0.6858889238481691, \"count\": 1, \"min\": 0.6858889238481691, \"max\": 0.6858889238481691}}}\u001b[0m\n",
      "\u001b[34m#metrics {\"StartTime\": 1700106570.0143843, \"EndTime\": 1700106570.0144029, \"Dimensions\": {\"Algorithm\": \"Linear Learner\", \"Host\": \"algo-1\", \"Operation\": \"training\", \"epoch\": 3, \"model\": 28}, \"Metrics\": {\"train_binary_classification_cross_entropy_objective\": {\"sum\": 0.6856847415224335, \"count\": 1, \"min\": 0.6856847415224335, \"max\": 0.6856847415224335}}}\u001b[0m\n",
      "\u001b[34m#metrics {\"StartTime\": 1700106570.0144722, \"EndTime\": 1700106570.014491, \"Dimensions\": {\"Algorithm\": \"Linear Learner\", \"Host\": \"algo-1\", \"Operation\": \"training\", \"epoch\": 3, \"model\": 29}, \"Metrics\": {\"train_binary_classification_cross_entropy_objective\": {\"sum\": 0.6885787535221619, \"count\": 1, \"min\": 0.6885787535221619, \"max\": 0.6885787535221619}}}\u001b[0m\n",
      "\u001b[34m#metrics {\"StartTime\": 1700106570.0145502, \"EndTime\": 1700106570.0145657, \"Dimensions\": {\"Algorithm\": \"Linear Learner\", \"Host\": \"algo-1\", \"Operation\": \"training\", \"epoch\": 3, \"model\": 30}, \"Metrics\": {\"train_binary_classification_cross_entropy_objective\": {\"sum\": 0.6856967727164545, \"count\": 1, \"min\": 0.6856967727164545, \"max\": 0.6856967727164545}}}\u001b[0m\n",
      "\u001b[34m#metrics {\"StartTime\": 1700106570.0146213, \"EndTime\": 1700106570.0146375, \"Dimensions\": {\"Algorithm\": \"Linear Learner\", \"Host\": \"algo-1\", \"Operation\": \"training\", \"epoch\": 3, \"model\": 31}, \"Metrics\": {\"train_binary_classification_cross_entropy_objective\": {\"sum\": 0.6885787532512958, \"count\": 1, \"min\": 0.6885787532512958, \"max\": 0.6885787532512958}}}\u001b[0m\n",
      "\u001b[34m[11/16/2023 03:49:30 INFO 140453937297216] #quality_metric: host=algo-1, epoch=3, train binary_classification_cross_entropy_objective <loss>=0.14554046382706545\u001b[0m\n",
      "\u001b[34m[11/16/2023 03:49:30 INFO 140453937297216] #early_stopping_criteria_metric: host=algo-1, epoch=3, criteria=binary_classification_cross_entropy_objective, value=0.12835509545633778\u001b[0m\n",
      "\u001b[34m[11/16/2023 03:49:30 INFO 140453937297216] Saving model for epoch: 3\u001b[0m\n",
      "\u001b[34m[11/16/2023 03:49:30 INFO 140453937297216] Saved checkpoint to \"/tmp/tmp3hh54f55/mx-mod-0000.params\"\u001b[0m\n",
      "\u001b[34m[11/16/2023 03:49:30 INFO 140453937297216] #progress_metric: host=algo-1, completed 40.0 % of epochs\u001b[0m\n",
      "\u001b[34m#metrics {\"StartTime\": 1700106455.0412056, \"EndTime\": 1700106570.0230298, \"Dimensions\": {\"Algorithm\": \"Linear Learner\", \"Host\": \"algo-1\", \"Operation\": \"training\", \"epoch\": 3, \"Meta\": \"training_data_iter\"}, \"Metrics\": {\"Total Records Seen\": {\"sum\": 1362328.0, \"count\": 1, \"min\": 1362328, \"max\": 1362328}, \"Total Batches Seen\": {\"sum\": 13626.0, \"count\": 1, \"min\": 13626, \"max\": 13626}, \"Max Records Seen Between Resets\": {\"sum\": 338032.0, \"count\": 1, \"min\": 338032, \"max\": 338032}, \"Max Batches Seen Between Resets\": {\"sum\": 3381.0, \"count\": 1, \"min\": 3381, \"max\": 3381}, \"Reset Count\": {\"sum\": 6.0, \"count\": 1, \"min\": 6, \"max\": 6}, \"Number of Records Since Last Reset\": {\"sum\": 338032.0, \"count\": 1, \"min\": 338032, \"max\": 338032}, \"Number of Batches Since Last Reset\": {\"sum\": 3381.0, \"count\": 1, \"min\": 3381, \"max\": 3381}}}\u001b[0m\n",
      "\u001b[34m[11/16/2023 03:49:30 INFO 140453937297216] #throughput_metric: host=algo-1, train throughput=2939.869443558788 records/second\u001b[0m\n",
      "\u001b[34m[2023-11-16 03:51:24.408] [tensorio] [info] epoch_stats={\"data_pipeline\": \"/opt/ml/input/data/train\", \"epoch\": 11, \"duration\": 114381, \"num_examples\": 3381, \"num_bytes\": 52732992}\u001b[0m\n",
      "\u001b[34m#metrics {\"StartTime\": 1700106684.4083877, \"EndTime\": 1700106684.408479, \"Dimensions\": {\"Algorithm\": \"Linear Learner\", \"Host\": \"algo-1\", \"Operation\": \"training\", \"epoch\": 4, \"model\": 0}, \"Metrics\": {\"train_binary_classification_cross_entropy_objective\": {\"sum\": 0.14516423472285975, \"count\": 1, \"min\": 0.14516423472285975, \"max\": 0.14516423472285975}}}\u001b[0m\n",
      "\u001b[34m#metrics {\"StartTime\": 1700106684.4086065, \"EndTime\": 1700106684.4086347, \"Dimensions\": {\"Algorithm\": \"Linear Learner\", \"Host\": \"algo-1\", \"Operation\": \"training\", \"epoch\": 4, \"model\": 1}, \"Metrics\": {\"train_binary_classification_cross_entropy_objective\": {\"sum\": 0.12869020840331646, \"count\": 1, \"min\": 0.12869020840331646, \"max\": 0.12869020840331646}}}\u001b[0m\n",
      "\u001b[34m#metrics {\"StartTime\": 1700106684.408704, \"EndTime\": 1700106684.408725, \"Dimensions\": {\"Algorithm\": \"Linear Learner\", \"Host\": \"algo-1\", \"Operation\": \"training\", \"epoch\": 4, \"model\": 2}, \"Metrics\": {\"train_binary_classification_cross_entropy_objective\": {\"sum\": 0.1379587641637001, \"count\": 1, \"min\": 0.1379587641637001, \"max\": 0.1379587641637001}}}\u001b[0m\n",
      "\u001b[34m#metrics {\"StartTime\": 1700106684.4087846, \"EndTime\": 1700106684.4088032, \"Dimensions\": {\"Algorithm\": \"Linear Learner\", \"Host\": \"algo-1\", \"Operation\": \"training\", \"epoch\": 4, \"model\": 3}, \"Metrics\": {\"train_binary_classification_cross_entropy_objective\": {\"sum\": 0.12870206252710353, \"count\": 1, \"min\": 0.12870206252710353, \"max\": 0.12870206252710353}}}\u001b[0m\n",
      "\u001b[34m#metrics {\"StartTime\": 1700106684.4088638, \"EndTime\": 1700106684.4088824, \"Dimensions\": {\"Algorithm\": \"Linear Learner\", \"Host\": \"algo-1\", \"Operation\": \"training\", \"epoch\": 4, \"model\": 4}, \"Metrics\": {\"train_binary_classification_cross_entropy_objective\": {\"sum\": 0.12835475777027874, \"count\": 1, \"min\": 0.12835475777027874, \"max\": 0.12835475777027874}}}\u001b[0m\n",
      "\u001b[34m#metrics {\"StartTime\": 1700106684.408943, \"EndTime\": 1700106684.408961, \"Dimensions\": {\"Algorithm\": \"Linear Learner\", \"Host\": \"algo-1\", \"Operation\": \"training\", \"epoch\": 4, \"model\": 5}, \"Metrics\": {\"train_binary_classification_cross_entropy_objective\": {\"sum\": 0.1338388737447163, \"count\": 1, \"min\": 0.1338388737447163, \"max\": 0.1338388737447163}}}\u001b[0m\n",
      "\u001b[34m#metrics {\"StartTime\": 1700106684.4090168, \"EndTime\": 1700106684.4090345, \"Dimensions\": {\"Algorithm\": \"Linear Learner\", \"Host\": \"algo-1\", \"Operation\": \"training\", \"epoch\": 4, \"model\": 6}, \"Metrics\": {\"train_binary_classification_cross_entropy_objective\": {\"sum\": 0.12837856302317782, \"count\": 1, \"min\": 0.12837856302317782, \"max\": 0.12837856302317782}}}\u001b[0m\n",
      "\u001b[34m#metrics {\"StartTime\": 1700106684.4090927, \"EndTime\": 1700106684.4091108, \"Dimensions\": {\"Algorithm\": \"Linear Learner\", \"Host\": \"algo-1\", \"Operation\": \"training\", \"epoch\": 4, \"model\": 7}, \"Metrics\": {\"train_binary_classification_cross_entropy_objective\": {\"sum\": 0.13383891780912524, \"count\": 1, \"min\": 0.13383891780912524, \"max\": 0.13383891780912524}}}\u001b[0m\n",
      "\u001b[34m#metrics {\"StartTime\": 1700106684.4091837, \"EndTime\": 1700106684.4092033, \"Dimensions\": {\"Algorithm\": \"Linear Learner\", \"Host\": \"algo-1\", \"Operation\": \"training\", \"epoch\": 4, \"model\": 8}, \"Metrics\": {\"train_binary_classification_cross_entropy_objective\": {\"sum\": 0.1573947194271539, \"count\": 1, \"min\": 0.1573947194271539, \"max\": 0.1573947194271539}}}\u001b[0m\n",
      "\u001b[34m#metrics {\"StartTime\": 1700106684.4092782, \"EndTime\": 1700106684.4092975, \"Dimensions\": {\"Algorithm\": \"Linear Learner\", \"Host\": \"algo-1\", \"Operation\": \"training\", \"epoch\": 4, \"model\": 9}, \"Metrics\": {\"train_binary_classification_cross_entropy_objective\": {\"sum\": 0.15471068265170035, \"count\": 1, \"min\": 0.15471068265170035, \"max\": 0.15471068265170035}}}\u001b[0m\n",
      "\u001b[34m#metrics {\"StartTime\": 1700106684.4093747, \"EndTime\": 1700106684.4093952, \"Dimensions\": {\"Algorithm\": \"Linear Learner\", \"Host\": \"algo-1\", \"Operation\": \"training\", \"epoch\": 4, \"model\": 10}, \"Metrics\": {\"train_binary_classification_cross_entropy_objective\": {\"sum\": 0.1551744754878727, \"count\": 1, \"min\": 0.1551744754878727, \"max\": 0.1551744754878727}}}\u001b[0m\n",
      "\u001b[34m#metrics {\"StartTime\": 1700106684.4094694, \"EndTime\": 1700106684.4094915, \"Dimensions\": {\"Algorithm\": \"Linear Learner\", \"Host\": \"algo-1\", \"Operation\": \"training\", \"epoch\": 4, \"model\": 11}, \"Metrics\": {\"train_binary_classification_cross_entropy_objective\": {\"sum\": 0.1547106828224024, \"count\": 1, \"min\": 0.1547106828224024, \"max\": 0.1547106828224024}}}\u001b[0m\n",
      "\u001b[34m#metrics {\"StartTime\": 1700106684.409561, \"EndTime\": 1700106684.4096086, \"Dimensions\": {\"Algorithm\": \"Linear Learner\", \"Host\": \"algo-1\", \"Operation\": \"training\", \"epoch\": 4, \"model\": 12}, \"Metrics\": {\"train_binary_classification_cross_entropy_objective\": {\"sum\": 0.15450404079567046, \"count\": 1, \"min\": 0.15450404079567046, \"max\": 0.15450404079567046}}}\u001b[0m\n",
      "\u001b[34m#metrics {\"StartTime\": 1700106684.4096794, \"EndTime\": 1700106684.4096973, \"Dimensions\": {\"Algorithm\": \"Linear Learner\", \"Host\": \"algo-1\", \"Operation\": \"training\", \"epoch\": 4, \"model\": 13}, \"Metrics\": {\"train_binary_classification_cross_entropy_objective\": {\"sum\": 0.15912340320637947, \"count\": 1, \"min\": 0.15912340320637947, \"max\": 0.15912340320637947}}}\u001b[0m\n",
      "\u001b[34m#metrics {\"StartTime\": 1700106684.409764, \"EndTime\": 1700106684.4097824, \"Dimensions\": {\"Algorithm\": \"Linear Learner\", \"Host\": \"algo-1\", \"Operation\": \"training\", \"epoch\": 4, \"model\": 14}, \"Metrics\": {\"train_binary_classification_cross_entropy_objective\": {\"sum\": 0.1544999454345929, \"count\": 1, \"min\": 0.1544999454345929, \"max\": 0.1544999454345929}}}\u001b[0m\n",
      "\u001b[34m#metrics {\"StartTime\": 1700106684.4098532, \"EndTime\": 1700106684.4098718, \"Dimensions\": {\"Algorithm\": \"Linear Learner\", \"Host\": \"algo-1\", \"Operation\": \"training\", \"epoch\": 4, \"model\": 15}, \"Metrics\": {\"train_binary_classification_cross_entropy_objective\": {\"sum\": 0.15912337127662976, \"count\": 1, \"min\": 0.15912337127662976, \"max\": 0.15912337127662976}}}\u001b[0m\n",
      "\u001b[34m#metrics {\"StartTime\": 1700106684.409935, \"EndTime\": 1700106684.4099534, \"Dimensions\": {\"Algorithm\": \"Linear Learner\", \"Host\": \"algo-1\", \"Operation\": \"training\", \"epoch\": 4, \"model\": 16}, \"Metrics\": {\"train_binary_classification_cross_entropy_objective\": {\"sum\": 0.406474575099155, \"count\": 1, \"min\": 0.406474575099155, \"max\": 0.406474575099155}}}\u001b[0m\n",
      "\u001b[34m#metrics {\"StartTime\": 1700106684.4100182, \"EndTime\": 1700106684.410037, \"Dimensions\": {\"Algorithm\": \"Linear Learner\", \"Host\": \"algo-1\", \"Operation\": \"training\", \"epoch\": 4, \"model\": 17}, \"Metrics\": {\"train_binary_classification_cross_entropy_objective\": {\"sum\": 0.4066739528814011, \"count\": 1, \"min\": 0.4066739528814011, \"max\": 0.4066739528814011}}}\u001b[0m\n",
      "\u001b[34m#metrics {\"StartTime\": 1700106684.4101114, \"EndTime\": 1700106684.4101322, \"Dimensions\": {\"Algorithm\": \"Linear Learner\", \"Host\": \"algo-1\", \"Operation\": \"training\", \"epoch\": 4, \"model\": 18}, \"Metrics\": {\"train_binary_classification_cross_entropy_objective\": {\"sum\": 0.4064960225686519, \"count\": 1, \"min\": 0.4064960225686519, \"max\": 0.4064960225686519}}}\u001b[0m\n",
      "\u001b[34m#metrics {\"StartTime\": 1700106684.4101942, \"EndTime\": 1700106684.4102118, \"Dimensions\": {\"Algorithm\": \"Linear Learner\", \"Host\": \"algo-1\", \"Operation\": \"training\", \"epoch\": 4, \"model\": 19}, \"Metrics\": {\"train_binary_classification_cross_entropy_objective\": {\"sum\": 0.4066739529829759, \"count\": 1, \"min\": 0.4066739529829759, \"max\": 0.4066739529829759}}}\u001b[0m\n",
      "\u001b[34m#metrics {\"StartTime\": 1700106684.4102829, \"EndTime\": 1700106684.410302, \"Dimensions\": {\"Algorithm\": \"Linear Learner\", \"Host\": \"algo-1\", \"Operation\": \"training\", \"epoch\": 4, \"model\": 20}, \"Metrics\": {\"train_binary_classification_cross_entropy_objective\": {\"sum\": 0.4064732584417219, \"count\": 1, \"min\": 0.4064732584417219, \"max\": 0.4064732584417219}}}\u001b[0m\n",
      "\u001b[34m#metrics {\"StartTime\": 1700106684.410365, \"EndTime\": 1700106684.4103837, \"Dimensions\": {\"Algorithm\": \"Linear Learner\", \"Host\": \"algo-1\", \"Operation\": \"training\", \"epoch\": 4, \"model\": 21}, \"Metrics\": {\"train_binary_classification_cross_entropy_objective\": {\"sum\": 0.4094340116850723, \"count\": 1, \"min\": 0.4094340116850723, \"max\": 0.4094340116850723}}}\u001b[0m\n",
      "\u001b[34m#metrics {\"StartTime\": 1700106684.4104521, \"EndTime\": 1700106684.4104712, \"Dimensions\": {\"Algorithm\": \"Linear Learner\", \"Host\": \"algo-1\", \"Operation\": \"training\", \"epoch\": 4, \"model\": 22}, \"Metrics\": {\"train_binary_classification_cross_entropy_objective\": {\"sum\": 0.4064960226589406, \"count\": 1, \"min\": 0.4064960226589406, \"max\": 0.4064960226589406}}}\u001b[0m\n",
      "\u001b[34m#metrics {\"StartTime\": 1700106684.4105341, \"EndTime\": 1700106684.4105537, \"Dimensions\": {\"Algorithm\": \"Linear Learner\", \"Host\": \"algo-1\", \"Operation\": \"training\", \"epoch\": 4, \"model\": 23}, \"Metrics\": {\"train_binary_classification_cross_entropy_objective\": {\"sum\": 0.40943401188822187, \"count\": 1, \"min\": 0.40943401188822187, \"max\": 0.40943401188822187}}}\u001b[0m\n",
      "\u001b[34m#metrics {\"StartTime\": 1700106684.4106255, \"EndTime\": 1700106684.4106457, \"Dimensions\": {\"Algorithm\": \"Linear Learner\", \"Host\": \"algo-1\", \"Operation\": \"training\", \"epoch\": 4, \"model\": 24}, \"Metrics\": {\"train_binary_classification_cross_entropy_objective\": {\"sum\": 0.6856847333964512, \"count\": 1, \"min\": 0.6856847333964512, \"max\": 0.6856847333964512}}}\u001b[0m\n",
      "\u001b[34m#metrics {\"StartTime\": 1700106684.4107058, \"EndTime\": 1700106684.4107215, \"Dimensions\": {\"Algorithm\": \"Linear Learner\", \"Host\": \"algo-1\", \"Operation\": \"training\", \"epoch\": 4, \"model\": 25}, \"Metrics\": {\"train_binary_classification_cross_entropy_objective\": {\"sum\": 0.6858402635472766, \"count\": 1, \"min\": 0.6858402635472766, \"max\": 0.6858402635472766}}}\u001b[0m\n",
      "\u001b[34m#metrics {\"StartTime\": 1700106684.410775, \"EndTime\": 1700106684.4107933, \"Dimensions\": {\"Algorithm\": \"Linear Learner\", \"Host\": \"algo-1\", \"Operation\": \"training\", \"epoch\": 4, \"model\": 26}, \"Metrics\": {\"train_binary_classification_cross_entropy_objective\": {\"sum\": 0.685696783731675, \"count\": 1, \"min\": 0.685696783731675, \"max\": 0.685696783731675}}}\u001b[0m\n",
      "\u001b[34m#metrics {\"StartTime\": 1700106684.4108653, \"EndTime\": 1700106684.410886, \"Dimensions\": {\"Algorithm\": \"Linear Learner\", \"Host\": \"algo-1\", \"Operation\": \"training\", \"epoch\": 4, \"model\": 27}, \"Metrics\": {\"train_binary_classification_cross_entropy_objective\": {\"sum\": 0.6858402633892714, \"count\": 1, \"min\": 0.6858402633892714, \"max\": 0.6858402633892714}}}\u001b[0m\n",
      "\u001b[34m#metrics {\"StartTime\": 1700106684.4109483, \"EndTime\": 1700106684.4109683, \"Dimensions\": {\"Algorithm\": \"Linear Learner\", \"Host\": \"algo-1\", \"Operation\": \"training\", \"epoch\": 4, \"model\": 28}, \"Metrics\": {\"train_binary_classification_cross_entropy_objective\": {\"sum\": 0.6856847328321468, \"count\": 1, \"min\": 0.6856847328321468, \"max\": 0.6856847328321468}}}\u001b[0m\n",
      "\u001b[34m#metrics {\"StartTime\": 1700106684.4110389, \"EndTime\": 1700106684.411059, \"Dimensions\": {\"Algorithm\": \"Linear Learner\", \"Host\": \"algo-1\", \"Operation\": \"training\", \"epoch\": 4, \"model\": 29}, \"Metrics\": {\"train_binary_classification_cross_entropy_objective\": {\"sum\": 0.6878458021039794, \"count\": 1, \"min\": 0.6878458021039794, \"max\": 0.6878458021039794}}}\u001b[0m\n",
      "\u001b[34m#metrics {\"StartTime\": 1700106684.411129, \"EndTime\": 1700106684.4111476, \"Dimensions\": {\"Algorithm\": \"Linear Learner\", \"Host\": \"algo-1\", \"Operation\": \"training\", \"epoch\": 4, \"model\": 30}, \"Metrics\": {\"train_binary_classification_cross_entropy_objective\": {\"sum\": 0.6856967824902055, \"count\": 1, \"min\": 0.6856967824902055, \"max\": 0.6856967824902055}}}\u001b[0m\n",
      "\u001b[34m#metrics {\"StartTime\": 1700106684.4112139, \"EndTime\": 1700106684.4112322, \"Dimensions\": {\"Algorithm\": \"Linear Learner\", \"Host\": \"algo-1\", \"Operation\": \"training\", \"epoch\": 4, \"model\": 31}, \"Metrics\": {\"train_binary_classification_cross_entropy_objective\": {\"sum\": 0.6878458023522732, \"count\": 1, \"min\": 0.6878458023522732, \"max\": 0.6878458023522732}}}\u001b[0m\n",
      "\u001b[34m[11/16/2023 03:51:24 INFO 140453937297216] #quality_metric: host=algo-1, epoch=4, train binary_classification_cross_entropy_objective <loss>=0.14516423472285975\u001b[0m\n",
      "\u001b[34m[11/16/2023 03:51:24 INFO 140453937297216] #early_stopping_criteria_metric: host=algo-1, epoch=4, criteria=binary_classification_cross_entropy_objective, value=0.12835475777027874\u001b[0m\n",
      "\u001b[34m[11/16/2023 03:51:24 INFO 140453937297216] Saving model for epoch: 4\u001b[0m\n",
      "\u001b[34m[11/16/2023 03:51:24 INFO 140453937297216] Saved checkpoint to \"/tmp/tmpuy5tr974/mx-mod-0000.params\"\u001b[0m\n",
      "\u001b[34m[11/16/2023 03:51:24 INFO 140453937297216] #progress_metric: host=algo-1, completed 50.0 % of epochs\u001b[0m\n",
      "\u001b[34m#metrics {\"StartTime\": 1700106570.026382, \"EndTime\": 1700106684.4200678, \"Dimensions\": {\"Algorithm\": \"Linear Learner\", \"Host\": \"algo-1\", \"Operation\": \"training\", \"epoch\": 4, \"Meta\": \"training_data_iter\"}, \"Metrics\": {\"Total Records Seen\": {\"sum\": 1700360.0, \"count\": 1, \"min\": 1700360, \"max\": 1700360}, \"Total Batches Seen\": {\"sum\": 17007.0, \"count\": 1, \"min\": 17007, \"max\": 17007}, \"Max Records Seen Between Resets\": {\"sum\": 338032.0, \"count\": 1, \"min\": 338032, \"max\": 338032}, \"Max Batches Seen Between Resets\": {\"sum\": 3381.0, \"count\": 1, \"min\": 3381, \"max\": 3381}, \"Reset Count\": {\"sum\": 7.0, \"count\": 1, \"min\": 7, \"max\": 7}, \"Number of Records Since Last Reset\": {\"sum\": 338032.0, \"count\": 1, \"min\": 338032, \"max\": 338032}, \"Number of Batches Since Last Reset\": {\"sum\": 3381.0, \"count\": 1, \"min\": 3381, \"max\": 3381}}}\u001b[0m\n",
      "\u001b[34m[11/16/2023 03:51:24 INFO 140453937297216] #throughput_metric: host=algo-1, train throughput=2954.9842196921036 records/second\u001b[0m\n",
      "\u001b[34m[2023-11-16 03:53:18.980] [tensorio] [info] epoch_stats={\"data_pipeline\": \"/opt/ml/input/data/train\", \"epoch\": 13, \"duration\": 114557, \"num_examples\": 3381, \"num_bytes\": 52732992}\u001b[0m\n",
      "\u001b[34m#metrics {\"StartTime\": 1700106798.9809513, \"EndTime\": 1700106798.9810371, \"Dimensions\": {\"Algorithm\": \"Linear Learner\", \"Host\": \"algo-1\", \"Operation\": \"training\", \"epoch\": 5, \"model\": 0}, \"Metrics\": {\"train_binary_classification_cross_entropy_objective\": {\"sum\": 0.14479766510083125, \"count\": 1, \"min\": 0.14479766510083125, \"max\": 0.14479766510083125}}}\u001b[0m\n",
      "\u001b[34m#metrics {\"StartTime\": 1700106798.9811542, \"EndTime\": 1700106798.981181, \"Dimensions\": {\"Algorithm\": \"Linear Learner\", \"Host\": \"algo-1\", \"Operation\": \"training\", \"epoch\": 5, \"model\": 1}, \"Metrics\": {\"train_binary_classification_cross_entropy_objective\": {\"sum\": 0.1286051300545416, \"count\": 1, \"min\": 0.1286051300545416, \"max\": 0.1286051300545416}}}\u001b[0m\n",
      "\u001b[34m#metrics {\"StartTime\": 1700106798.98125, \"EndTime\": 1700106798.981269, \"Dimensions\": {\"Algorithm\": \"Linear Learner\", \"Host\": \"algo-1\", \"Operation\": \"training\", \"epoch\": 5, \"model\": 2}, \"Metrics\": {\"train_binary_classification_cross_entropy_objective\": {\"sum\": 0.13631985576406738, \"count\": 1, \"min\": 0.13631985576406738, \"max\": 0.13631985576406738}}}\u001b[0m\n",
      "\u001b[34m#metrics {\"StartTime\": 1700106798.9813263, \"EndTime\": 1700106798.9813445, \"Dimensions\": {\"Algorithm\": \"Linear Learner\", \"Host\": \"algo-1\", \"Operation\": \"training\", \"epoch\": 5, \"model\": 3}, \"Metrics\": {\"train_binary_classification_cross_entropy_objective\": {\"sum\": 0.12861622932535657, \"count\": 1, \"min\": 0.12861622932535657, \"max\": 0.12861622932535657}}}\u001b[0m\n",
      "\u001b[34m#metrics {\"StartTime\": 1700106798.981403, \"EndTime\": 1700106798.9814208, \"Dimensions\": {\"Algorithm\": \"Linear Learner\", \"Host\": \"algo-1\", \"Operation\": \"training\", \"epoch\": 5, \"model\": 4}, \"Metrics\": {\"train_binary_classification_cross_entropy_objective\": {\"sum\": 0.1283545486482643, \"count\": 1, \"min\": 0.1283545486482643, \"max\": 0.1283545486482643}}}\u001b[0m\n",
      "\u001b[34m#metrics {\"StartTime\": 1700106798.9814796, \"EndTime\": 1700106798.9814973, \"Dimensions\": {\"Algorithm\": \"Linear Learner\", \"Host\": \"algo-1\", \"Operation\": \"training\", \"epoch\": 5, \"model\": 5}, \"Metrics\": {\"train_binary_classification_cross_entropy_objective\": {\"sum\": 0.1321285844752069, \"count\": 1, \"min\": 0.1321285844752069, \"max\": 0.1321285844752069}}}\u001b[0m\n",
      "\u001b[34m#metrics {\"StartTime\": 1700106798.9815671, \"EndTime\": 1700106798.981611, \"Dimensions\": {\"Algorithm\": \"Linear Learner\", \"Host\": \"algo-1\", \"Operation\": \"training\", \"epoch\": 5, \"model\": 6}, \"Metrics\": {\"train_binary_classification_cross_entropy_objective\": {\"sum\": 0.12837852226700303, \"count\": 1, \"min\": 0.12837852226700303, \"max\": 0.12837852226700303}}}\u001b[0m\n",
      "\u001b[34m#metrics {\"StartTime\": 1700106798.9816732, \"EndTime\": 1700106798.9816911, \"Dimensions\": {\"Algorithm\": \"Linear Learner\", \"Host\": \"algo-1\", \"Operation\": \"training\", \"epoch\": 5, \"model\": 7}, \"Metrics\": {\"train_binary_classification_cross_entropy_objective\": {\"sum\": 0.13212857907128758, \"count\": 1, \"min\": 0.13212857907128758, \"max\": 0.13212857907128758}}}\u001b[0m\n",
      "\u001b[34m#metrics {\"StartTime\": 1700106798.9817483, \"EndTime\": 1700106798.981765, \"Dimensions\": {\"Algorithm\": \"Linear Learner\", \"Host\": \"algo-1\", \"Operation\": \"training\", \"epoch\": 5, \"model\": 8}, \"Metrics\": {\"train_binary_classification_cross_entropy_objective\": {\"sum\": 0.15721747458474875, \"count\": 1, \"min\": 0.15721747458474875, \"max\": 0.15721747458474875}}}\u001b[0m\n",
      "\u001b[34m#metrics {\"StartTime\": 1700106798.9818301, \"EndTime\": 1700106798.9818492, \"Dimensions\": {\"Algorithm\": \"Linear Learner\", \"Host\": \"algo-1\", \"Operation\": \"training\", \"epoch\": 5, \"model\": 9}, \"Metrics\": {\"train_binary_classification_cross_entropy_objective\": {\"sum\": 0.15464556486084616, \"count\": 1, \"min\": 0.15464556486084616, \"max\": 0.15464556486084616}}}\u001b[0m\n",
      "\u001b[34m#metrics {\"StartTime\": 1700106798.9819157, \"EndTime\": 1700106798.9819345, \"Dimensions\": {\"Algorithm\": \"Linear Learner\", \"Host\": \"algo-1\", \"Operation\": \"training\", \"epoch\": 5, \"model\": 10}, \"Metrics\": {\"train_binary_classification_cross_entropy_objective\": {\"sum\": 0.15490285970896658, \"count\": 1, \"min\": 0.15490285970896658, \"max\": 0.15490285970896658}}}\u001b[0m\n",
      "\u001b[34m#metrics {\"StartTime\": 1700106798.982006, \"EndTime\": 1700106798.9820251, \"Dimensions\": {\"Algorithm\": \"Linear Learner\", \"Host\": \"algo-1\", \"Operation\": \"training\", \"epoch\": 5, \"model\": 11}, \"Metrics\": {\"train_binary_classification_cross_entropy_objective\": {\"sum\": 0.154645564903169, \"count\": 1, \"min\": 0.154645564903169, \"max\": 0.154645564903169}}}\u001b[0m\n",
      "\u001b[34m#metrics {\"StartTime\": 1700106798.9820962, \"EndTime\": 1700106798.9821146, \"Dimensions\": {\"Algorithm\": \"Linear Learner\", \"Host\": \"algo-1\", \"Operation\": \"training\", \"epoch\": 5, \"model\": 12}, \"Metrics\": {\"train_binary_classification_cross_entropy_objective\": {\"sum\": 0.15450016965527505, \"count\": 1, \"min\": 0.15450016965527505, \"max\": 0.15450016965527505}}}\u001b[0m\n",
      "\u001b[34m#metrics {\"StartTime\": 1700106798.9821799, \"EndTime\": 1700106798.9821982, \"Dimensions\": {\"Algorithm\": \"Linear Learner\", \"Host\": \"algo-1\", \"Operation\": \"training\", \"epoch\": 5, \"model\": 13}, \"Metrics\": {\"train_binary_classification_cross_entropy_objective\": {\"sum\": 0.15758865838925515, \"count\": 1, \"min\": 0.15758865838925515, \"max\": 0.15758865838925515}}}\u001b[0m\n",
      "\u001b[34m#metrics {\"StartTime\": 1700106798.9822662, \"EndTime\": 1700106798.9822812, \"Dimensions\": {\"Algorithm\": \"Linear Learner\", \"Host\": \"algo-1\", \"Operation\": \"training\", \"epoch\": 5, \"model\": 14}, \"Metrics\": {\"train_binary_classification_cross_entropy_objective\": {\"sum\": 0.15449668459920488, \"count\": 1, \"min\": 0.15449668459920488, \"max\": 0.15449668459920488}}}\u001b[0m\n",
      "\u001b[34m#metrics {\"StartTime\": 1700106798.9823375, \"EndTime\": 1700106798.9823544, \"Dimensions\": {\"Algorithm\": \"Linear Learner\", \"Host\": \"algo-1\", \"Operation\": \"training\", \"epoch\": 5, \"model\": 15}, \"Metrics\": {\"train_binary_classification_cross_entropy_objective\": {\"sum\": 0.15758865854584958, \"count\": 1, \"min\": 0.15758865854584958, \"max\": 0.15758865854584958}}}\u001b[0m\n",
      "\u001b[34m#metrics {\"StartTime\": 1700106798.9824219, \"EndTime\": 1700106798.982438, \"Dimensions\": {\"Algorithm\": \"Linear Learner\", \"Host\": \"algo-1\", \"Operation\": \"training\", \"epoch\": 5, \"model\": 16}, \"Metrics\": {\"train_binary_classification_cross_entropy_objective\": {\"sum\": 0.4064747917581592, \"count\": 1, \"min\": 0.4064747917581592, \"max\": 0.4064747917581592}}}\u001b[0m\n",
      "\u001b[34m#metrics {\"StartTime\": 1700106798.9824922, \"EndTime\": 1700106798.9825099, \"Dimensions\": {\"Algorithm\": \"Linear Learner\", \"Host\": \"algo-1\", \"Operation\": \"training\", \"epoch\": 5, \"model\": 17}, \"Metrics\": {\"train_binary_classification_cross_entropy_objective\": {\"sum\": 0.40662431076997835, \"count\": 1, \"min\": 0.40662431076997835, \"max\": 0.40662431076997835}}}\u001b[0m\n",
      "\u001b[34m#metrics {\"StartTime\": 1700106798.9825654, \"EndTime\": 1700106798.9825828, \"Dimensions\": {\"Algorithm\": \"Linear Learner\", \"Host\": \"algo-1\", \"Operation\": \"training\", \"epoch\": 5, \"model\": 18}, \"Metrics\": {\"train_binary_classification_cross_entropy_objective\": {\"sum\": 0.4064960224670771, \"count\": 1, \"min\": 0.4064960224670771, \"max\": 0.4064960224670771}}}\u001b[0m\n",
      "\u001b[34m#metrics {\"StartTime\": 1700106798.9826374, \"EndTime\": 1700106798.982652, \"Dimensions\": {\"Algorithm\": \"Linear Learner\", \"Host\": \"algo-1\", \"Operation\": \"training\", \"epoch\": 5, \"model\": 19}, \"Metrics\": {\"train_binary_classification_cross_entropy_objective\": {\"sum\": 0.40662431078126443, \"count\": 1, \"min\": 0.40662431078126443, \"max\": 0.40662431078126443}}}\u001b[0m\n",
      "\u001b[34m#metrics {\"StartTime\": 1700106798.9827142, \"EndTime\": 1700106798.9827325, \"Dimensions\": {\"Algorithm\": \"Linear Learner\", \"Host\": \"algo-1\", \"Operation\": \"training\", \"epoch\": 5, \"model\": 20}, \"Metrics\": {\"train_binary_classification_cross_entropy_objective\": {\"sum\": 0.4064744804314608, \"count\": 1, \"min\": 0.4064744804314608, \"max\": 0.4064744804314608}}}\u001b[0m\n",
      "\u001b[34m#metrics {\"StartTime\": 1700106798.9827845, \"EndTime\": 1700106798.9828002, \"Dimensions\": {\"Algorithm\": \"Linear Learner\", \"Host\": \"algo-1\", \"Operation\": \"training\", \"epoch\": 5, \"model\": 21}, \"Metrics\": {\"train_binary_classification_cross_entropy_objective\": {\"sum\": 0.408602504910802, \"count\": 1, \"min\": 0.408602504910802, \"max\": 0.408602504910802}}}\u001b[0m\n",
      "\u001b[34m#metrics {\"StartTime\": 1700106798.9828553, \"EndTime\": 1700106798.9828732, \"Dimensions\": {\"Algorithm\": \"Linear Learner\", \"Host\": \"algo-1\", \"Operation\": \"training\", \"epoch\": 5, \"model\": 22}, \"Metrics\": {\"train_binary_classification_cross_entropy_objective\": {\"sum\": 0.4064960225686519, \"count\": 1, \"min\": 0.4064960225686519, \"max\": 0.4064960225686519}}}\u001b[0m\n",
      "\u001b[34m#metrics {\"StartTime\": 1700106798.9829268, \"EndTime\": 1700106798.9829438, \"Dimensions\": {\"Algorithm\": \"Linear Learner\", \"Host\": \"algo-1\", \"Operation\": \"training\", \"epoch\": 5, \"model\": 23}, \"Metrics\": {\"train_binary_classification_cross_entropy_objective\": {\"sum\": 0.40860250502366285, \"count\": 1, \"min\": 0.40860250502366285, \"max\": 0.40860250502366285}}}\u001b[0m\n",
      "\u001b[34m#metrics {\"StartTime\": 1700106798.9829993, \"EndTime\": 1700106798.9830163, \"Dimensions\": {\"Algorithm\": \"Linear Learner\", \"Host\": \"algo-1\", \"Operation\": \"training\", \"epoch\": 5, \"model\": 24}, \"Metrics\": {\"train_binary_classification_cross_entropy_objective\": {\"sum\": 0.6856847316132495, \"count\": 1, \"min\": 0.6856847316132495, \"max\": 0.6856847316132495}}}\u001b[0m\n",
      "\u001b[34m#metrics {\"StartTime\": 1700106798.9830618, \"EndTime\": 1700106798.983074, \"Dimensions\": {\"Algorithm\": \"Linear Learner\", \"Host\": \"algo-1\", \"Operation\": \"training\", \"epoch\": 5, \"model\": 25}, \"Metrics\": {\"train_binary_classification_cross_entropy_objective\": {\"sum\": 0.6858009445371007, \"count\": 1, \"min\": 0.6858009445371007, \"max\": 0.6858009445371007}}}\u001b[0m\n",
      "\u001b[34m#metrics {\"StartTime\": 1700106798.9831266, \"EndTime\": 1700106798.9831436, \"Dimensions\": {\"Algorithm\": \"Linear Learner\", \"Host\": \"algo-1\", \"Operation\": \"training\", \"epoch\": 5, \"model\": 26}, \"Metrics\": {\"train_binary_classification_cross_entropy_objective\": {\"sum\": 0.6856967832576594, \"count\": 1, \"min\": 0.6856967832576594, \"max\": 0.6856967832576594}}}\u001b[0m\n",
      "\u001b[34m#metrics {\"StartTime\": 1700106798.9831996, \"EndTime\": 1700106798.983215, \"Dimensions\": {\"Algorithm\": \"Linear Learner\", \"Host\": \"algo-1\", \"Operation\": \"training\", \"epoch\": 5, \"model\": 27}, \"Metrics\": {\"train_binary_classification_cross_entropy_objective\": {\"sum\": 0.6858009445371007, \"count\": 1, \"min\": 0.6858009445371007, \"max\": 0.6858009445371007}}}\u001b[0m\n",
      "\u001b[34m#metrics {\"StartTime\": 1700106798.9832797, \"EndTime\": 1700106798.9832969, \"Dimensions\": {\"Algorithm\": \"Linear Learner\", \"Host\": \"algo-1\", \"Operation\": \"training\", \"epoch\": 5, \"model\": 28}, \"Metrics\": {\"train_binary_classification_cross_entropy_objective\": {\"sum\": 0.6856847317035382, \"count\": 1, \"min\": 0.6856847317035382, \"max\": 0.6856847317035382}}}\u001b[0m\n",
      "\u001b[34m#metrics {\"StartTime\": 1700106798.9833543, \"EndTime\": 1700106798.9833715, \"Dimensions\": {\"Algorithm\": \"Linear Learner\", \"Host\": \"algo-1\", \"Operation\": \"training\", \"epoch\": 5, \"model\": 29}, \"Metrics\": {\"train_binary_classification_cross_entropy_objective\": {\"sum\": 0.6872859453957462, \"count\": 1, \"min\": 0.6872859453957462, \"max\": 0.6872859453957462}}}\u001b[0m\n",
      "\u001b[34m#metrics {\"StartTime\": 1700106798.9834263, \"EndTime\": 1700106798.9834368, \"Dimensions\": {\"Algorithm\": \"Linear Learner\", \"Host\": \"algo-1\", \"Operation\": \"training\", \"epoch\": 5, \"model\": 30}, \"Metrics\": {\"train_binary_classification_cross_entropy_objective\": {\"sum\": 0.6856967831673707, \"count\": 1, \"min\": 0.6856967831673707, \"max\": 0.6856967831673707}}}\u001b[0m\n",
      "\u001b[34m#metrics {\"StartTime\": 1700106798.983497, \"EndTime\": 1700106798.9835138, \"Dimensions\": {\"Algorithm\": \"Linear Learner\", \"Host\": \"algo-1\", \"Operation\": \"training\", \"epoch\": 5, \"model\": 31}, \"Metrics\": {\"train_binary_classification_cross_entropy_objective\": {\"sum\": 0.6872859447862975, \"count\": 1, \"min\": 0.6872859447862975, \"max\": 0.6872859447862975}}}\u001b[0m\n",
      "\u001b[34m[11/16/2023 03:53:18 INFO 140453937297216] #quality_metric: host=algo-1, epoch=5, train binary_classification_cross_entropy_objective <loss>=0.14479766510083125\u001b[0m\n",
      "\u001b[34m[11/16/2023 03:53:18 INFO 140453937297216] #early_stopping_criteria_metric: host=algo-1, epoch=5, criteria=binary_classification_cross_entropy_objective, value=0.1283545486482643\u001b[0m\n",
      "\u001b[34m[11/16/2023 03:53:18 INFO 140453937297216] Saving model for epoch: 5\u001b[0m\n",
      "\u001b[34m[11/16/2023 03:53:18 INFO 140453937297216] Saved checkpoint to \"/tmp/tmpbtl_1q71/mx-mod-0000.params\"\u001b[0m\n",
      "\u001b[34m[11/16/2023 03:53:18 INFO 140453937297216] #progress_metric: host=algo-1, completed 60.0 % of epochs\u001b[0m\n",
      "\u001b[34m#metrics {\"StartTime\": 1700106684.4234903, \"EndTime\": 1700106798.9919941, \"Dimensions\": {\"Algorithm\": \"Linear Learner\", \"Host\": \"algo-1\", \"Operation\": \"training\", \"epoch\": 5, \"Meta\": \"training_data_iter\"}, \"Metrics\": {\"Total Records Seen\": {\"sum\": 2038392.0, \"count\": 1, \"min\": 2038392, \"max\": 2038392}, \"Total Batches Seen\": {\"sum\": 20388.0, \"count\": 1, \"min\": 20388, \"max\": 20388}, \"Max Records Seen Between Resets\": {\"sum\": 338032.0, \"count\": 1, \"min\": 338032, \"max\": 338032}, \"Max Batches Seen Between Resets\": {\"sum\": 3381.0, \"count\": 1, \"min\": 3381, \"max\": 3381}, \"Reset Count\": {\"sum\": 8.0, \"count\": 1, \"min\": 8, \"max\": 8}, \"Number of Records Since Last Reset\": {\"sum\": 338032.0, \"count\": 1, \"min\": 338032, \"max\": 338032}, \"Number of Batches Since Last Reset\": {\"sum\": 3381.0, \"count\": 1, \"min\": 3381, \"max\": 3381}}}\u001b[0m\n",
      "\u001b[34m[11/16/2023 03:53:18 INFO 140453937297216] #throughput_metric: host=algo-1, train throughput=2950.4753233496454 records/second\u001b[0m\n",
      "\u001b[34m[2023-11-16 03:55:13.770] [tensorio] [info] epoch_stats={\"data_pipeline\": \"/opt/ml/input/data/train\", \"epoch\": 15, \"duration\": 114775, \"num_examples\": 3381, \"num_bytes\": 52732992}\u001b[0m\n",
      "\u001b[34m#metrics {\"StartTime\": 1700106913.7709012, \"EndTime\": 1700106913.7709959, \"Dimensions\": {\"Algorithm\": \"Linear Learner\", \"Host\": \"algo-1\", \"Operation\": \"training\", \"epoch\": 6, \"model\": 0}, \"Metrics\": {\"train_binary_classification_cross_entropy_objective\": {\"sum\": 0.14444052415909853, \"count\": 1, \"min\": 0.14444052415909853, \"max\": 0.14444052415909853}}}\u001b[0m\n",
      "\u001b[34m#metrics {\"StartTime\": 1700106913.7711143, \"EndTime\": 1700106913.771139, \"Dimensions\": {\"Algorithm\": \"Linear Learner\", \"Host\": \"algo-1\", \"Operation\": \"training\", \"epoch\": 6, \"model\": 1}, \"Metrics\": {\"train_binary_classification_cross_entropy_objective\": {\"sum\": 0.12854546155097216, \"count\": 1, \"min\": 0.12854546155097216, \"max\": 0.12854546155097216}}}\u001b[0m\n",
      "\u001b[34m#metrics {\"StartTime\": 1700106913.771207, \"EndTime\": 1700106913.7712247, \"Dimensions\": {\"Algorithm\": \"Linear Learner\", \"Host\": \"algo-1\", \"Operation\": \"training\", \"epoch\": 6, \"model\": 2}, \"Metrics\": {\"train_binary_classification_cross_entropy_objective\": {\"sum\": 0.135022062400389, \"count\": 1, \"min\": 0.135022062400389, \"max\": 0.135022062400389}}}\u001b[0m\n",
      "\u001b[34m#metrics {\"StartTime\": 1700106913.7712865, \"EndTime\": 1700106913.7713053, \"Dimensions\": {\"Algorithm\": \"Linear Learner\", \"Host\": \"algo-1\", \"Operation\": \"training\", \"epoch\": 6, \"model\": 3}, \"Metrics\": {\"train_binary_classification_cross_entropy_objective\": {\"sum\": 0.1285560952573133, \"count\": 1, \"min\": 0.1285560952573133, \"max\": 0.1285560952573133}}}\u001b[0m\n",
      "\u001b[34m#metrics {\"StartTime\": 1700106913.7713685, \"EndTime\": 1700106913.7713873, \"Dimensions\": {\"Algorithm\": \"Linear Learner\", \"Host\": \"algo-1\", \"Operation\": \"training\", \"epoch\": 6, \"model\": 4}, \"Metrics\": {\"train_binary_classification_cross_entropy_objective\": {\"sum\": 0.12835436221128385, \"count\": 1, \"min\": 0.12835436221128385, \"max\": 0.12835436221128385}}}\u001b[0m\n",
      "\u001b[34m#metrics {\"StartTime\": 1700106913.7714481, \"EndTime\": 1700106913.771462, \"Dimensions\": {\"Algorithm\": \"Linear Learner\", \"Host\": \"algo-1\", \"Operation\": \"training\", \"epoch\": 6, \"model\": 5}, \"Metrics\": {\"train_binary_classification_cross_entropy_objective\": {\"sum\": 0.13101576671304083, \"count\": 1, \"min\": 0.13101576671304083, \"max\": 0.13101576671304083}}}\u001b[0m\n",
      "\u001b[34m#metrics {\"StartTime\": 1700106913.7715085, \"EndTime\": 1700106913.7715235, \"Dimensions\": {\"Algorithm\": \"Linear Learner\", \"Host\": \"algo-1\", \"Operation\": \"training\", \"epoch\": 6, \"model\": 6}, \"Metrics\": {\"train_binary_classification_cross_entropy_objective\": {\"sum\": 0.12837861150679503, \"count\": 1, \"min\": 0.12837861150679503, \"max\": 0.12837861150679503}}}\u001b[0m\n",
      "\u001b[34m#metrics {\"StartTime\": 1700106913.7715821, \"EndTime\": 1700106913.7715943, \"Dimensions\": {\"Algorithm\": \"Linear Learner\", \"Host\": \"algo-1\", \"Operation\": \"training\", \"epoch\": 6, \"model\": 7}, \"Metrics\": {\"train_binary_classification_cross_entropy_objective\": {\"sum\": 0.13101576228043033, \"count\": 1, \"min\": 0.13101576228043033, \"max\": 0.13101576228043033}}}\u001b[0m\n",
      "\u001b[34m#metrics {\"StartTime\": 1700106913.7716415, \"EndTime\": 1700106913.7716587, \"Dimensions\": {\"Algorithm\": \"Linear Learner\", \"Host\": \"algo-1\", \"Operation\": \"training\", \"epoch\": 6, \"model\": 8}, \"Metrics\": {\"train_binary_classification_cross_entropy_objective\": {\"sum\": 0.15705210961110494, \"count\": 1, \"min\": 0.15705210961110494, \"max\": 0.15705210961110494}}}\u001b[0m\n",
      "\u001b[34m#metrics {\"StartTime\": 1700106913.7717173, \"EndTime\": 1700106913.771735, \"Dimensions\": {\"Algorithm\": \"Linear Learner\", \"Host\": \"algo-1\", \"Operation\": \"training\", \"epoch\": 6, \"model\": 9}, \"Metrics\": {\"train_binary_classification_cross_entropy_objective\": {\"sum\": 0.1545958494843816, \"count\": 1, \"min\": 0.1545958494843816, \"max\": 0.1545958494843816}}}\u001b[0m\n",
      "\u001b[34m#metrics {\"StartTime\": 1700106913.771803, \"EndTime\": 1700106913.7718217, \"Dimensions\": {\"Algorithm\": \"Linear Learner\", \"Host\": \"algo-1\", \"Operation\": \"training\", \"epoch\": 6, \"model\": 10}, \"Metrics\": {\"train_binary_classification_cross_entropy_objective\": {\"sum\": 0.15474749179704655, \"count\": 1, \"min\": 0.15474749179704655, \"max\": 0.15474749179704655}}}\u001b[0m\n",
      "\u001b[34m#metrics {\"StartTime\": 1700106913.7718928, \"EndTime\": 1700106913.7719123, \"Dimensions\": {\"Algorithm\": \"Linear Learner\", \"Host\": \"algo-1\", \"Operation\": \"training\", \"epoch\": 6, \"model\": 11}, \"Metrics\": {\"train_binary_classification_cross_entropy_objective\": {\"sum\": 0.15459584951541833, \"count\": 1, \"min\": 0.15459584951541833, \"max\": 0.15459584951541833}}}\u001b[0m\n",
      "\u001b[34m#metrics {\"StartTime\": 1700106913.7719727, \"EndTime\": 1700106913.77199, \"Dimensions\": {\"Algorithm\": \"Linear Learner\", \"Host\": \"algo-1\", \"Operation\": \"training\", \"epoch\": 6, \"model\": 12}, \"Metrics\": {\"train_binary_classification_cross_entropy_objective\": {\"sum\": 0.1544967621247444, \"count\": 1, \"min\": 0.1544967621247444, \"max\": 0.1544967621247444}}}\u001b[0m\n",
      "\u001b[34m#metrics {\"StartTime\": 1700106913.7720542, \"EndTime\": 1700106913.7720728, \"Dimensions\": {\"Algorithm\": \"Linear Learner\", \"Host\": \"algo-1\", \"Operation\": \"training\", \"epoch\": 6, \"model\": 13}, \"Metrics\": {\"train_binary_classification_cross_entropy_objective\": {\"sum\": 0.1566457488311113, \"count\": 1, \"min\": 0.1566457488311113, \"max\": 0.1566457488311113}}}\u001b[0m\n",
      "\u001b[34m#metrics {\"StartTime\": 1700106913.7721462, \"EndTime\": 1700106913.7721643, \"Dimensions\": {\"Algorithm\": \"Linear Learner\", \"Host\": \"algo-1\", \"Operation\": \"training\", \"epoch\": 6, \"model\": 14}, \"Metrics\": {\"train_binary_classification_cross_entropy_objective\": {\"sum\": 0.15449561339722584, \"count\": 1, \"min\": 0.15449561339722584, \"max\": 0.15449561339722584}}}\u001b[0m\n",
      "\u001b[34m#metrics {\"StartTime\": 1700106913.772228, \"EndTime\": 1700106913.7722454, \"Dimensions\": {\"Algorithm\": \"Linear Learner\", \"Host\": \"algo-1\", \"Operation\": \"training\", \"epoch\": 6, \"model\": 15}, \"Metrics\": {\"train_binary_classification_cross_entropy_objective\": {\"sum\": 0.15664574902015324, \"count\": 1, \"min\": 0.15664574902015324, \"max\": 0.15664574902015324}}}\u001b[0m\n",
      "\u001b[34m#metrics {\"StartTime\": 1700106913.7723017, \"EndTime\": 1700106913.7723181, \"Dimensions\": {\"Algorithm\": \"Linear Learner\", \"Host\": \"algo-1\", \"Operation\": \"training\", \"epoch\": 6, \"model\": 16}, \"Metrics\": {\"train_binary_classification_cross_entropy_objective\": {\"sum\": 0.4064748680746767, \"count\": 1, \"min\": 0.4064748680746767, \"max\": 0.4064748680746767}}}\u001b[0m\n",
      "\u001b[34m#metrics {\"StartTime\": 1700106913.7723758, \"EndTime\": 1700106913.7723932, \"Dimensions\": {\"Algorithm\": \"Linear Learner\", \"Host\": \"algo-1\", \"Operation\": \"training\", \"epoch\": 6, \"model\": 17}, \"Metrics\": {\"train_binary_classification_cross_entropy_objective\": {\"sum\": 0.4065866609945805, \"count\": 1, \"min\": 0.4065866609945805, \"max\": 0.4065866609945805}}}\u001b[0m\n",
      "\u001b[34m#metrics {\"StartTime\": 1700106913.7724504, \"EndTime\": 1700106913.7724683, \"Dimensions\": {\"Algorithm\": \"Linear Learner\", \"Host\": \"algo-1\", \"Operation\": \"training\", \"epoch\": 6, \"model\": 18}, \"Metrics\": {\"train_binary_classification_cross_entropy_objective\": {\"sum\": 0.406496022184925, \"count\": 1, \"min\": 0.406496022184925, \"max\": 0.406496022184925}}}\u001b[0m\n",
      "\u001b[34m#metrics {\"StartTime\": 1700106913.7725227, \"EndTime\": 1700106913.7725399, \"Dimensions\": {\"Algorithm\": \"Linear Learner\", \"Host\": \"algo-1\", \"Operation\": \"training\", \"epoch\": 6, \"model\": 19}, \"Metrics\": {\"train_binary_classification_cross_entropy_objective\": {\"sum\": 0.4065866607350005, \"count\": 1, \"min\": 0.4065866607350005, \"max\": 0.4065866607350005}}}\u001b[0m\n",
      "\u001b[34m#metrics {\"StartTime\": 1700106913.7726169, \"EndTime\": 1700106913.7726355, \"Dimensions\": {\"Algorithm\": \"Linear Learner\", \"Host\": \"algo-1\", \"Operation\": \"training\", \"epoch\": 6, \"model\": 20}, \"Metrics\": {\"train_binary_classification_cross_entropy_objective\": {\"sum\": 0.4064747987329607, \"count\": 1, \"min\": 0.4064747987329607, \"max\": 0.4064747987329607}}}\u001b[0m\n",
      "\u001b[34m#metrics {\"StartTime\": 1700106913.7726932, \"EndTime\": 1700106913.7727103, \"Dimensions\": {\"Algorithm\": \"Linear Learner\", \"Host\": \"algo-1\", \"Operation\": \"training\", \"epoch\": 6, \"model\": 21}, \"Metrics\": {\"train_binary_classification_cross_entropy_objective\": {\"sum\": 0.40796679894035387, \"count\": 1, \"min\": 0.40796679894035387, \"max\": 0.40796679894035387}}}\u001b[0m\n",
      "\u001b[34m#metrics {\"StartTime\": 1700106913.772773, \"EndTime\": 1700106913.7727907, \"Dimensions\": {\"Algorithm\": \"Linear Learner\", \"Host\": \"algo-1\", \"Operation\": \"training\", \"epoch\": 6, \"model\": 22}, \"Metrics\": {\"train_binary_classification_cross_entropy_objective\": {\"sum\": 0.4064960221736389, \"count\": 1, \"min\": 0.4064960221736389, \"max\": 0.4064960221736389}}}\u001b[0m\n",
      "\u001b[34m#metrics {\"StartTime\": 1700106913.772848, \"EndTime\": 1700106913.7728648, \"Dimensions\": {\"Algorithm\": \"Linear Learner\", \"Host\": \"algo-1\", \"Operation\": \"training\", \"epoch\": 6, \"model\": 23}, \"Metrics\": {\"train_binary_classification_cross_entropy_objective\": {\"sum\": 0.4079667988049208, \"count\": 1, \"min\": 0.4079667988049208, \"max\": 0.4079667988049208}}}\u001b[0m\n",
      "\u001b[34m#metrics {\"StartTime\": 1700106913.7729268, \"EndTime\": 1700106913.7729447, \"Dimensions\": {\"Algorithm\": \"Linear Learner\", \"Host\": \"algo-1\", \"Operation\": \"training\", \"epoch\": 6, \"model\": 24}, \"Metrics\": {\"train_binary_classification_cross_entropy_objective\": {\"sum\": 0.6856847309812286, \"count\": 1, \"min\": 0.6856847309812286, \"max\": 0.6856847309812286}}}\u001b[0m\n",
      "\u001b[34m#metrics {\"StartTime\": 1700106913.7730124, \"EndTime\": 1700106913.7730298, \"Dimensions\": {\"Algorithm\": \"Linear Learner\", \"Host\": \"algo-1\", \"Operation\": \"training\", \"epoch\": 6, \"model\": 25}, \"Metrics\": {\"train_binary_classification_cross_entropy_objective\": {\"sum\": 0.6857661666870117, \"count\": 1, \"min\": 0.6857661666870117, \"max\": 0.6857661666870117}}}\u001b[0m\n",
      "\u001b[34m#metrics {\"StartTime\": 1700106913.7730968, \"EndTime\": 1700106913.7731156, \"Dimensions\": {\"Algorithm\": \"Linear Learner\", \"Host\": \"algo-1\", \"Operation\": \"training\", \"epoch\": 6, \"model\": 26}, \"Metrics\": {\"train_binary_classification_cross_entropy_objective\": {\"sum\": 0.6856967831899429, \"count\": 1, \"min\": 0.6856967831899429, \"max\": 0.6856967831899429}}}\u001b[0m\n",
      "\u001b[34m#metrics {\"StartTime\": 1700106913.7731714, \"EndTime\": 1700106913.773188, \"Dimensions\": {\"Algorithm\": \"Linear Learner\", \"Host\": \"algo-1\", \"Operation\": \"training\", \"epoch\": 6, \"model\": 27}, \"Metrics\": {\"train_binary_classification_cross_entropy_objective\": {\"sum\": 0.6857661666418674, \"count\": 1, \"min\": 0.6857661666418674, \"max\": 0.6857661666418674}}}\u001b[0m\n",
      "\u001b[34m#metrics {\"StartTime\": 1700106913.773243, \"EndTime\": 1700106913.773255, \"Dimensions\": {\"Algorithm\": \"Linear Learner\", \"Host\": \"algo-1\", \"Operation\": \"training\", \"epoch\": 6, \"model\": 28}, \"Metrics\": {\"train_binary_classification_cross_entropy_objective\": {\"sum\": 0.6856847302814912, \"count\": 1, \"min\": 0.6856847302814912, \"max\": 0.6856847302814912}}}\u001b[0m\n",
      "\u001b[34m#metrics {\"StartTime\": 1700106913.7733092, \"EndTime\": 1700106913.7733252, \"Dimensions\": {\"Algorithm\": \"Linear Learner\", \"Host\": \"algo-1\", \"Operation\": \"training\", \"epoch\": 6, \"model\": 29}, \"Metrics\": {\"train_binary_classification_cross_entropy_objective\": {\"sum\": 0.6868193992298736, \"count\": 1, \"min\": 0.6868193992298736, \"max\": 0.6868193992298736}}}\u001b[0m\n",
      "\u001b[34m#metrics {\"StartTime\": 1700106913.7733772, \"EndTime\": 1700106913.7733943, \"Dimensions\": {\"Algorithm\": \"Linear Learner\", \"Host\": \"algo-1\", \"Operation\": \"training\", \"epoch\": 6, \"model\": 30}, \"Metrics\": {\"train_binary_classification_cross_entropy_objective\": {\"sum\": 0.6856967831899429, \"count\": 1, \"min\": 0.6856967831899429, \"max\": 0.6856967831899429}}}\u001b[0m\n",
      "\u001b[34m#metrics {\"StartTime\": 1700106913.7734492, \"EndTime\": 1700106913.7734616, \"Dimensions\": {\"Algorithm\": \"Linear Learner\", \"Host\": \"algo-1\", \"Operation\": \"training\", \"epoch\": 6, \"model\": 31}, \"Metrics\": {\"train_binary_classification_cross_entropy_objective\": {\"sum\": 0.6868193991847292, \"count\": 1, \"min\": 0.6868193991847292, \"max\": 0.6868193991847292}}}\u001b[0m\n",
      "\u001b[34m[11/16/2023 03:55:13 INFO 140453937297216] #quality_metric: host=algo-1, epoch=6, train binary_classification_cross_entropy_objective <loss>=0.14444052415909853\u001b[0m\n",
      "\u001b[34m[11/16/2023 03:55:13 INFO 140453937297216] #early_stopping_criteria_metric: host=algo-1, epoch=6, criteria=binary_classification_cross_entropy_objective, value=0.12835436221128385\u001b[0m\n",
      "\u001b[34m[11/16/2023 03:55:13 INFO 140453937297216] Saving model for epoch: 6\u001b[0m\n",
      "\u001b[34m[11/16/2023 03:55:13 INFO 140453937297216] Saved checkpoint to \"/tmp/tmp39jiiknr/mx-mod-0000.params\"\u001b[0m\n",
      "\u001b[34m[11/16/2023 03:55:13 INFO 140453937297216] Early stop condition met. Stopping training.\u001b[0m\n",
      "\u001b[34m[11/16/2023 03:55:13 INFO 140453937297216] #progress_metric: host=algo-1, completed 100 % epochs\u001b[0m\n",
      "\u001b[34m#metrics {\"StartTime\": 1700106798.995355, \"EndTime\": 1700106913.7823741, \"Dimensions\": {\"Algorithm\": \"Linear Learner\", \"Host\": \"algo-1\", \"Operation\": \"training\", \"epoch\": 6, \"Meta\": \"training_data_iter\"}, \"Metrics\": {\"Total Records Seen\": {\"sum\": 2376424.0, \"count\": 1, \"min\": 2376424, \"max\": 2376424}, \"Total Batches Seen\": {\"sum\": 23769.0, \"count\": 1, \"min\": 23769, \"max\": 23769}, \"Max Records Seen Between Resets\": {\"sum\": 338032.0, \"count\": 1, \"min\": 338032, \"max\": 338032}, \"Max Batches Seen Between Resets\": {\"sum\": 3381.0, \"count\": 1, \"min\": 3381, \"max\": 3381}, \"Reset Count\": {\"sum\": 9.0, \"count\": 1, \"min\": 9, \"max\": 9}, \"Number of Records Since Last Reset\": {\"sum\": 338032.0, \"count\": 1, \"min\": 338032, \"max\": 338032}, \"Number of Batches Since Last Reset\": {\"sum\": 3381.0, \"count\": 1, \"min\": 3381, \"max\": 3381}}}\u001b[0m\n",
      "\u001b[34m[11/16/2023 03:55:13 INFO 140453937297216] #throughput_metric: host=algo-1, train throughput=2944.858630633656 records/second\u001b[0m\n",
      "\u001b[34m[11/16/2023 03:55:13 WARNING 140453937297216] wait_for_all_workers will not sync workers since the kv store is not running distributed\u001b[0m\n",
      "\u001b[34m[11/16/2023 03:55:13 WARNING 140453937297216] wait_for_all_workers will not sync workers since the kv store is not running distributed\u001b[0m\n",
      "\u001b[34m[2023-11-16 03:55:13.787] [tensorio] [info] epoch_stats={\"data_pipeline\": \"/opt/ml/input/data/train\", \"epoch\": 17, \"duration\": 1, \"num_examples\": 1, \"num_bytes\": 15600}\u001b[0m\n",
      "\u001b[34m[2023-11-16 03:55:20.200] [tensorio] [info] epoch_stats={\"data_pipeline\": \"/opt/ml/input/data/train\", \"epoch\": 20, \"duration\": 6410, \"num_examples\": 3381, \"num_bytes\": 52732992}\u001b[0m\n",
      "\u001b[34m[2023-11-16 03:55:33.442] [tensorio] [info] epoch_stats={\"data_pipeline\": \"/opt/ml/input/data/train\", \"epoch\": 22, \"duration\": 13119, \"num_examples\": 3381, \"num_bytes\": 52732992}\u001b[0m\n",
      "\u001b[34m[11/16/2023 03:55:33 INFO 140453937297216] #train_score (algo-1) : ('binary_classification_cross_entropy_objective', 0.12834478875487)\u001b[0m\n",
      "\u001b[34m[11/16/2023 03:55:33 INFO 140453937297216] #train_score (algo-1) : ('binary_classification_accuracy', 0.947549344440763)\u001b[0m\n",
      "\u001b[34m[11/16/2023 03:55:33 INFO 140453937297216] #train_score (algo-1) : ('binary_f_1.000', 0.9473456005511932)\u001b[0m\n",
      "\u001b[34m[11/16/2023 03:55:33 INFO 140453937297216] #train_score (algo-1) : ('precision', 0.9499863008803173)\u001b[0m\n",
      "\u001b[34m[11/16/2023 03:55:33 INFO 140453937297216] #train_score (algo-1) : ('recall', 0.9447195403660487)\u001b[0m\n",
      "\u001b[34m[11/16/2023 03:55:33 INFO 140453937297216] #train_score (algo-1) : ('roc_auc_score', 0.9894986475332691)\u001b[0m\n",
      "\u001b[34m[11/16/2023 03:55:33 INFO 140453937297216] #train_score (algo-1) : ('binary_balanced_accuracy', 0.5)\u001b[0m\n",
      "\u001b[34m[11/16/2023 03:55:33 INFO 140453937297216] #train_score (algo-1) : ('binary_log_loss', 0.5370106785422979)\u001b[0m\n",
      "\u001b[34m[11/16/2023 03:55:33 INFO 140453937297216] #quality_metric: host=algo-1, train binary_classification_cross_entropy_objective <loss>=0.12834478875487\u001b[0m\n",
      "\u001b[34m[11/16/2023 03:55:33 INFO 140453937297216] #quality_metric: host=algo-1, train binary_classification_accuracy <score>=0.947549344440763\u001b[0m\n",
      "\u001b[34m[11/16/2023 03:55:33 INFO 140453937297216] #quality_metric: host=algo-1, train binary_f_1.000 <score>=0.9473456005511932\u001b[0m\n",
      "\u001b[34m[11/16/2023 03:55:33 INFO 140453937297216] #quality_metric: host=algo-1, train precision <score>=0.9499863008803173\u001b[0m\n",
      "\u001b[34m[11/16/2023 03:55:33 INFO 140453937297216] #quality_metric: host=algo-1, train recall <score>=0.9447195403660487\u001b[0m\n",
      "\u001b[34m[11/16/2023 03:55:33 INFO 140453937297216] #quality_metric: host=algo-1, train roc_auc_score <score>=0.9894986475332691\u001b[0m\n",
      "\u001b[34m[11/16/2023 03:55:33 INFO 140453937297216] #quality_metric: host=algo-1, train binary_balanced_accuracy <score>=0.5\u001b[0m\n",
      "\u001b[34m[11/16/2023 03:55:33 INFO 140453937297216] #quality_metric: host=algo-1, train binary_log_loss <score>=0.5370106785422979\u001b[0m\n",
      "\u001b[34m[11/16/2023 03:55:33 INFO 140453937297216] Best model found for hyperparameters: {\"optimizer\": \"adam\", \"learning_rate\": 0.1, \"wd\": 0.0001, \"l1\": 0.0, \"lr_scheduler_step\": 10, \"lr_scheduler_factor\": 0.99, \"lr_scheduler_minimum_lr\": 1e-05}\u001b[0m\n",
      "\u001b[34m[11/16/2023 03:55:33 INFO 140453937297216] Saved checkpoint to \"/tmp/tmpuhj_917u/mx-mod-0000.params\"\u001b[0m\n",
      "\u001b[34m[2023-11-16 03:55:33.969] [tensorio] [info] epoch_stats={\"data_pipeline\": \"/opt/ml/input/data/test\", \"epoch\": 0, \"duration\": 825120, \"num_examples\": 1, \"num_bytes\": 15600}\u001b[0m\n",
      "\u001b[34m[2023-11-16 03:55:36.866] [tensorio] [info] epoch_stats={\"data_pipeline\": \"/opt/ml/input/data/test\", \"epoch\": 1, \"duration\": 2897, \"num_examples\": 846, \"num_bytes\": 13183248}\u001b[0m\n",
      "\u001b[34m#metrics {\"StartTime\": 1700106933.9679942, \"EndTime\": 1700106936.9884322, \"Dimensions\": {\"Algorithm\": \"Linear Learner\", \"Host\": \"algo-1\", \"Operation\": \"training\", \"Meta\": \"test_data_iter\"}, \"Metrics\": {\"Total Records Seen\": {\"sum\": 84508.0, \"count\": 1, \"min\": 84508, \"max\": 84508}, \"Total Batches Seen\": {\"sum\": 846.0, \"count\": 1, \"min\": 846, \"max\": 846}, \"Max Records Seen Between Resets\": {\"sum\": 84508.0, \"count\": 1, \"min\": 84508, \"max\": 84508}, \"Max Batches Seen Between Resets\": {\"sum\": 846.0, \"count\": 1, \"min\": 846, \"max\": 846}, \"Reset Count\": {\"sum\": 1.0, \"count\": 1, \"min\": 1, \"max\": 1}, \"Number of Records Since Last Reset\": {\"sum\": 84508.0, \"count\": 1, \"min\": 84508, \"max\": 84508}, \"Number of Batches Since Last Reset\": {\"sum\": 846.0, \"count\": 1, \"min\": 846, \"max\": 846}}}\u001b[0m\n",
      "\u001b[34m[11/16/2023 03:55:36 INFO 140453937297216] #test_score (algo-1) : ('binary_classification_cross_entropy_objective', 0.1269288484008707)\u001b[0m\n",
      "\u001b[34m[11/16/2023 03:55:36 INFO 140453937297216] #test_score (algo-1) : ('binary_classification_accuracy', 0.9471055994698727)\u001b[0m\n",
      "\u001b[34m[11/16/2023 03:55:36 INFO 140453937297216] #test_score (algo-1) : ('binary_f_1.000', 0.9472192702798441)\u001b[0m\n",
      "\u001b[34m[11/16/2023 03:55:36 INFO 140453937297216] #test_score (algo-1) : ('precision', 0.9493491124260355)\u001b[0m\n",
      "\u001b[34m[11/16/2023 03:55:36 INFO 140453937297216] #test_score (algo-1) : ('recall', 0.9450989632422243)\u001b[0m\n",
      "\u001b[34m[11/16/2023 03:55:36 INFO 140453937297216] #test_score (algo-1) : ('roc_auc_score', 0.9897912011785237)\u001b[0m\n",
      "\u001b[34m[11/16/2023 03:55:36 INFO 140453937297216] #test_score (algo-1) : ('binary_balanced_accuracy', 0.5)\u001b[0m\n",
      "\u001b[34m[11/16/2023 03:55:36 INFO 140453937297216] #test_score (algo-1) : ('binary_log_loss', 0.5360280355374216)\u001b[0m\n",
      "\u001b[34m[11/16/2023 03:55:36 INFO 140453937297216] #quality_metric: host=algo-1, test binary_classification_cross_entropy_objective <loss>=0.1269288484008707\u001b[0m\n",
      "\u001b[34m[11/16/2023 03:55:36 INFO 140453937297216] #quality_metric: host=algo-1, test binary_classification_accuracy <score>=0.9471055994698727\u001b[0m\n",
      "\u001b[34m[11/16/2023 03:55:36 INFO 140453937297216] #quality_metric: host=algo-1, test binary_f_1.000 <score>=0.9472192702798441\u001b[0m\n",
      "\u001b[34m[11/16/2023 03:55:36 INFO 140453937297216] #quality_metric: host=algo-1, test precision <score>=0.9493491124260355\u001b[0m\n",
      "\u001b[34m[11/16/2023 03:55:36 INFO 140453937297216] #quality_metric: host=algo-1, test recall <score>=0.9450989632422243\u001b[0m\n",
      "\u001b[34m[11/16/2023 03:55:36 INFO 140453937297216] #quality_metric: host=algo-1, test roc_auc_score <score>=0.9897912011785237\u001b[0m\n",
      "\u001b[34m[11/16/2023 03:55:36 INFO 140453937297216] #quality_metric: host=algo-1, test binary_balanced_accuracy <score>=0.5\u001b[0m\n",
      "\u001b[34m[11/16/2023 03:55:36 INFO 140453937297216] #quality_metric: host=algo-1, test binary_log_loss <score>=0.5360280355374216\u001b[0m\n",
      "\u001b[34m#metrics {\"StartTime\": 1700106108.8461282, \"EndTime\": 1700106936.9949038, \"Dimensions\": {\"Algorithm\": \"Linear Learner\", \"Host\": \"algo-1\", \"Operation\": \"training\"}, \"Metrics\": {\"initialize.time\": {\"sum\": 546.9486713409424, \"count\": 1, \"min\": 546.9486713409424, \"max\": 546.9486713409424}, \"epochs\": {\"sum\": 10.0, \"count\": 1, \"min\": 10, \"max\": 10}, \"check_early_stopping.time\": {\"sum\": 4.069805145263672, \"count\": 7, \"min\": 0.22482872009277344, \"max\": 1.0886192321777344}, \"update.time\": {\"sum\": 804342.5524234772, \"count\": 7, \"min\": 114390.5758857727, \"max\": 116034.32965278625}, \"finalize.time\": {\"sum\": 20181.926012039185, \"count\": 1, \"min\": 20181.926012039185, \"max\": 20181.926012039185}, \"setuptime\": {\"sum\": 2.5758743286132812, \"count\": 1, \"min\": 2.5758743286132812, \"max\": 2.5758743286132812}, \"totaltime\": {\"sum\": 828275.3338813782, \"count\": 1, \"min\": 828275.3338813782, \"max\": 828275.3338813782}}}\u001b[0m\n",
      "\n",
      "2023-11-16 03:55:44 Uploading - Uploading generated training model\n",
      "2023-11-16 03:55:55 Completed - Training job completed\n",
      "Training seconds: 976\n",
      "Billable seconds: 976\n"
     ]
    }
   ],
   "source": [
    "# Fitting the linear learner model with the training data\n",
    "linear.fit({\"train\": s3_train_data, \"test\": s3_test_data})"
   ]
  },
  {
   "cell_type": "markdown",
   "metadata": {},
   "source": [
    "## Deploying the Model to Make Predictions"
   ]
  },
  {
   "cell_type": "code",
   "execution_count": 11,
   "metadata": {
    "scrolled": true
   },
   "outputs": [
    {
     "name": "stderr",
     "output_type": "stream",
     "text": [
      "INFO:sagemaker:Creating model with name: linear-learner-2023-11-16-03-56-35-657\n",
      "INFO:sagemaker:Creating endpoint-config with name linear-learner-2023-11-16-03-56-35-657\n",
      "INFO:sagemaker:Creating endpoint with name linear-learner-2023-11-16-03-56-35-657\n"
     ]
    },
    {
     "name": "stdout",
     "output_type": "stream",
     "text": [
      "-------------------!"
     ]
    }
   ],
   "source": [
    "# An instance of the linear-learner predictor is created\n",
    "linear_predictor = linear.deploy(initial_instance_count=1, instance_type=\"ml.t2.medium\")"
   ]
  },
  {
   "cell_type": "code",
   "execution_count": 12,
   "metadata": {},
   "outputs": [],
   "source": [
    "# Linear predictor configurations\n",
    "linear_predictor.serializer = CSVSerializer()\n",
    "linear_predictor.deserializer = JSONDeserializer()"
   ]
  },
  {
   "cell_type": "code",
   "execution_count": 15,
   "metadata": {},
   "outputs": [
    {
     "data": {
      "text/plain": [
       "array([1, 0, 0, 1, 0])"
      ]
     },
     "execution_count": 15,
     "metadata": {},
     "output_type": "execute_result"
    }
   ],
   "source": [
    "# Making some predictions using the test data.\n",
    "result = linear_predictor.predict(X_test)\n",
    "y_predictions = np.array([r[\"predicted_label\"] for r in result[\"predictions\"]])\n",
    "y_predictions[:5]"
   ]
  },
  {
   "cell_type": "markdown",
   "metadata": {},
   "source": [
    "## Model Evaluation"
   ]
  },
  {
   "cell_type": "code",
   "execution_count": 16,
   "metadata": {},
   "outputs": [],
   "source": [
    "from sklearn.metrics import confusion_matrix, accuracy_score, classification_report\n",
    "# Calculating the confusion matrix\n",
    "cm = confusion_matrix(y_test, y_predictions)\n",
    "cm_df = pd.DataFrame(\n",
    "    cm, index=[\"Actual 0\", \"Actual 1\"], columns=[\"Predicted 0\", \"Predicted 1\"]\n",
    ")\n",
    "\n",
    "# Calculating the accuracy score\n",
    "acc_score = accuracy_score(y_test, y_predictions)"
   ]
  },
  {
   "cell_type": "code",
   "execution_count": 18,
   "metadata": {},
   "outputs": [
    {
     "name": "stdout",
     "output_type": "stream",
     "text": [
      "Confusion Matrix\n"
     ]
    },
    {
     "data": {
      "text/html": [
       "<div>\n",
       "<style scoped>\n",
       "    .dataframe tbody tr th:only-of-type {\n",
       "        vertical-align: middle;\n",
       "    }\n",
       "\n",
       "    .dataframe tbody tr th {\n",
       "        vertical-align: top;\n",
       "    }\n",
       "\n",
       "    .dataframe thead th {\n",
       "        text-align: right;\n",
       "    }\n",
       "</style>\n",
       "<table border=\"1\" class=\"dataframe\">\n",
       "  <thead>\n",
       "    <tr style=\"text-align: right;\">\n",
       "      <th></th>\n",
       "      <th>Predicted 0</th>\n",
       "      <th>Predicted 1</th>\n",
       "    </tr>\n",
       "  </thead>\n",
       "  <tbody>\n",
       "    <tr>\n",
       "      <th>Actual 0</th>\n",
       "      <td>39928</td>\n",
       "      <td>2140</td>\n",
       "    </tr>\n",
       "    <tr>\n",
       "      <th>Actual 1</th>\n",
       "      <td>2330</td>\n",
       "      <td>40110</td>\n",
       "    </tr>\n",
       "  </tbody>\n",
       "</table>\n",
       "</div>"
      ],
      "text/plain": [
       "          Predicted 0  Predicted 1\n",
       "Actual 0        39928         2140\n",
       "Actual 1         2330        40110"
      ]
     },
     "metadata": {},
     "output_type": "display_data"
    },
    {
     "name": "stdout",
     "output_type": "stream",
     "text": [
      "Accuracy Score : 0.9471055994698727\n",
      "Classification Report\n",
      "              precision    recall  f1-score   support\n",
      "\n",
      "           0       0.94      0.95      0.95     42068\n",
      "           1       0.95      0.95      0.95     42440\n",
      "\n",
      "    accuracy                           0.95     84508\n",
      "   macro avg       0.95      0.95      0.95     84508\n",
      "weighted avg       0.95      0.95      0.95     84508\n",
      "\n"
     ]
    }
   ],
   "source": [
    "# Displaying results\n",
    "print(\"Confusion Matrix\")\n",
    "display(cm_df)\n",
    "print(f\"Accuracy Score : {acc_score}\")\n",
    "print(\"Classification Report\")\n",
    "print(classification_report(y_test,y_predictions))"
   ]
  },
  {
   "cell_type": "markdown",
   "metadata": {},
   "source": [
    "## Delete Amazon SageMaker end-point"
   ]
  },
  {
   "cell_type": "code",
   "execution_count": 19,
   "metadata": {},
   "outputs": [
    {
     "name": "stdout",
     "output_type": "stream",
     "text": [
      "sagemaker.config INFO - Not applying SDK defaults from location: /etc/xdg/sagemaker/config.yaml\n",
      "sagemaker.config INFO - Not applying SDK defaults from location: /home/ec2-user/.config/sagemaker/config.yaml\n"
     ]
    },
    {
     "name": "stderr",
     "output_type": "stream",
     "text": [
      "WARNING:sagemaker.deprecations:The endpoint attribute has been renamed in sagemaker>=2.\n",
      "See: https://sagemaker.readthedocs.io/en/stable/v2.html for details.\n",
      "INFO:sagemaker:Deleting endpoint with name: linear-learner-2023-11-16-03-56-35-657\n"
     ]
    }
   ],
   "source": [
    "sagemaker.Session().delete_endpoint(linear_predictor.endpoint)"
   ]
  },
  {
   "cell_type": "code",
   "execution_count": null,
   "metadata": {},
   "outputs": [],
   "source": []
  }
 ],
 "metadata": {
  "file_extension": ".py",
  "kernelspec": {
   "display_name": "conda_python3",
   "language": "python",
   "name": "conda_python3"
  },
  "language_info": {
   "codemirror_mode": {
    "name": "ipython",
    "version": 3
   },
   "file_extension": ".py",
   "mimetype": "text/x-python",
   "name": "python",
   "nbconvert_exporter": "python",
   "pygments_lexer": "ipython3",
   "version": "3.10.13"
  },
  "mimetype": "text/x-python",
  "name": "python",
  "npconvert_exporter": "python",
  "pygments_lexer": "ipython3",
  "version": 3
 },
 "nbformat": 4,
 "nbformat_minor": 4
}
