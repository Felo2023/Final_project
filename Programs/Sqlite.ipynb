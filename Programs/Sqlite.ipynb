{
 "cells": [
  {
   "cell_type": "code",
   "execution_count": 1,
   "metadata": {},
   "outputs": [],
   "source": [
    "# Import the dependencies.\n",
    "from pathlib import Path\n",
    "from sqlalchemy import create_engine, text\n",
    "import sqlite3\n",
    "import csv"
   ]
  },
  {
   "cell_type": "code",
   "execution_count": 2,
   "metadata": {},
   "outputs": [],
   "source": [
    "    # Import webscrapping csv and extract data\n",
    "    with open(f'../../COVID2020.csv', 'r') as fin:\n",
    "        dr = csv.DictReader(fin)\n",
    "        covid_2020 = [(i['FECHA_ACTUALIZACION'],i['ID_REGISTRO'],i['ORIGEN'],i['SECTOR'],i['ENTIDAD_UM'],i['SEXO'],i['ENTIDAD_NAC'],i['ENTIDAD_RES'],i['MUNICIPIO_RES'],i['TIPO_PACIENTE'],i['FECHA_INGRESO'],i['FECHA_SINTOMAS'],i['FECHA_DEF'],i['INTUBADO'],i['NEUMONIA'],i['EDAD'],i['NACIONALIDAD'],i['EMBARAZO'],i['HABLA_LENGUA_INDIG'],i['INDIGENA'],i['DIABETES'],i['EPOC'],i['ASMA'],i['INMUSUPR'],i['HIPERTENSION'],i['OTRA_COM'],i['CARDIOVASCULAR'],i['OBESIDAD'],i['RENAL_CRONICA'],i['TABAQUISMO'],i['OTRO_CASO'],i['TOMA_MUESTRA_LAB'],i['RESULTADO_LAB'],i['TOMA_MUESTRA_ANTIGENO'],i['RESULTADO_ANTIGENO'],i['CLASIFICACION_FINAL'],i['MIGRANTE'],i['PAIS_NACIONALIDAD'],i['PAIS_ORIGEN'],i['UCI']) for i in dr]\n",
    "        "
   ]
  },
  {
   "cell_type": "code",
   "execution_count": 3,
   "metadata": {},
   "outputs": [],
   "source": [
    "    # Connect to SQLite\n",
    "    sqliteConnection = sqlite3.connect('Covid2020_DB.sqlite')\n",
    "    cursor = sqliteConnection.cursor()"
   ]
  },
  {
   "cell_type": "code",
   "execution_count": 4,
   "metadata": {},
   "outputs": [
    {
     "data": {
      "text/plain": [
       "<sqlite3.Cursor at 0x107bb3840>"
      ]
     },
     "execution_count": 4,
     "metadata": {},
     "output_type": "execute_result"
    }
   ],
   "source": [
    "# Create countries table\n",
    "cursor.execute(f'''CREATE TABLE COVID2020 (\n",
    "    FECHA_ACTUALIZACION DATE,\n",
    "    ID_REGISTRO varchar (6)  PRIMARY KEY,\n",
    "    ORIGEN int,\n",
    "    SECTOR int,\n",
    "    ENTIDAD_UM int,\n",
    "    SEXO int,\n",
    "    ENTIDAD_NAC int,\n",
    "    ENTIDAD_RES int,\n",
    "    MUNICIPIO_RES int,\n",
    "    TIPO_PACIENTE int,\n",
    "    FECHA_INGRESO DATE,\n",
    "    FECHA_SINTOMAS DATE,\n",
    "    FECHA_DEF DATE,\n",
    "    INTUBADO int,\n",
    "    NEUMONIA int,\n",
    "    EDAD int,\n",
    "    NACIONALIDAD int,\n",
    "    EMBARAZO int,\n",
    "    HABLA_LENGUA_INDIG int,\n",
    "    INDIGENA int,\n",
    "    DIABETES int,\n",
    "    EPOC int,\n",
    "    ASMA int,\n",
    "    INMUSUPR int,\n",
    "    HIPERTENSION int,\n",
    "    OTRA_COM int,\n",
    "    CARDIOVASCULAR int,\n",
    "    OBESIDAD int,\n",
    "    RENAL_CRONICA int,\n",
    "    TABAQUISMO int,\n",
    "    OTRO_CASO int,\n",
    "    TOMA_MUESTRA_LAB int,\n",
    "    RESULTADO_LAB int,\n",
    "    TOMA_MUESTRA_ANTIGENO int,\n",
    "    RESULTADO_ANTIGENO int,\n",
    "    CLASIFICACION_FINAL int,\n",
    "    MIGRANTE int,\n",
    "    PAIS_NACIONALIDAD varchar(50),\n",
    "    PAIS_ORIGEN int,\n",
    "    UCI inr\n",
    ");''')"
   ]
  },
  {
   "cell_type": "code",
   "execution_count": 5,
   "metadata": {},
   "outputs": [
    {
     "data": {
      "text/plain": [
       "<sqlite3.Cursor at 0x107bb3840>"
      ]
     },
     "execution_count": 5,
     "metadata": {},
     "output_type": "execute_result"
    }
   ],
   "source": [
    "    # Insert data into table\n",
    "    cursor.executemany(\n",
    "        f\"insert into COVID2020 (FECHA_ACTUALIZACION, ID_REGISTRO, ORIGEN, SECTOR, ENTIDAD_UM, SEXO, ENTIDAD_NAC, ENTIDAD_RES, MUNICIPIO_RES, TIPO_PACIENTE, FECHA_INGRESO, FECHA_SINTOMAS, FECHA_DEF, INTUBADO, NEUMONIA, EDAD, NACIONALIDAD, EMBARAZO, HABLA_LENGUA_INDIG, INDIGENA, DIABETES, EPOC, ASMA, INMUSUPR, HIPERTENSION, OTRA_COM, CARDIOVASCULAR, OBESIDAD, RENAL_CRONICA, TABAQUISMO, OTRO_CASO, TOMA_MUESTRA_LAB, RESULTADO_LAB, TOMA_MUESTRA_ANTIGENO, RESULTADO_ANTIGENO, CLASIFICACION_FINAL, MIGRANTE, PAIS_NACIONALIDAD, PAIS_ORIGEN, UCI) VALUES (?, ?, ?, ?, ?, ?, ?, ?, ?, ?, ?, ?, ?, ?, ?, ?, ?, ?, ?, ?, ?, ?, ?, ?, ?, ?, ?, ?, ?, ?, ?, ?, ?, ?, ?, ?, ?, ?, ?, ?);\", covid_2020)"
   ]
  },
  {
   "cell_type": "code",
   "execution_count": 6,
   "metadata": {},
   "outputs": [
    {
     "data": {
      "text/plain": [
       "<sqlite3.Cursor at 0x107bb3840>"
      ]
     },
     "execution_count": 6,
     "metadata": {},
     "output_type": "execute_result"
    }
   ],
   "source": [
    "    # Show student table\n",
    "    cursor.execute('select * from COVID2020;')"
   ]
  },
  {
   "cell_type": "code",
   "execution_count": 7,
   "metadata": {},
   "outputs": [],
   "source": [
    "    # View result\n",
    "    result = cursor.fetchall()\n",
    "    #print(result)"
   ]
  },
  {
   "cell_type": "code",
   "execution_count": 8,
   "metadata": {},
   "outputs": [],
   "source": [
    "    # Commit work and close connection\n",
    "    sqliteConnection.commit()\n",
    "    "
   ]
  },
  {
   "cell_type": "code",
   "execution_count": 9,
   "metadata": {},
   "outputs": [],
   "source": [
    "cursor.close()"
   ]
  }
 ],
 "metadata": {
  "anaconda-cloud": {},
  "kernelspec": {
   "display_name": "Python 3.10.9 ('base')",
   "language": "python",
   "name": "python3"
  },
  "language_info": {
   "codemirror_mode": {
    "name": "ipython",
    "version": 3
   },
   "file_extension": ".py",
   "mimetype": "text/x-python",
   "name": "python",
   "nbconvert_exporter": "python",
   "pygments_lexer": "ipython3",
   "version": "3.10.13"
  },
  "varInspector": {
   "cols": {
    "lenName": 16,
    "lenType": 16,
    "lenVar": 40
   },
   "kernels_config": {
    "python": {
     "delete_cmd_postfix": "",
     "delete_cmd_prefix": "del ",
     "library": "var_list.py",
     "varRefreshCmd": "print(var_dic_list())"
    },
    "r": {
     "delete_cmd_postfix": ") ",
     "delete_cmd_prefix": "rm(",
     "library": "var_list.r",
     "varRefreshCmd": "cat(var_dic_list()) "
    }
   },
   "types_to_exclude": [
    "module",
    "function",
    "builtin_function_or_method",
    "instance",
    "_Feature"
   ],
   "window_display": false
  },
  "vscode": {
   "interpreter": {
    "hash": "ce8b5e658b2eede209b31591b9f0d4f1ed334d79e0c4190ad78d2af0dd810241"
   }
  }
 },
 "nbformat": 4,
 "nbformat_minor": 1
}
